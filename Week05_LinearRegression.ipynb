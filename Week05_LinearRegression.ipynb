{
  "nbformat": 4,
  "nbformat_minor": 0,
  "metadata": {
    "colab": {
      "name": "Week05_LinearRegression",
      "provenance": [],
      "authorship_tag": "ABX9TyP/TnPBnAjQPAokokgkhPnO",
      "include_colab_link": true
    },
    "kernelspec": {
      "name": "python3",
      "display_name": "Python 3"
    }
  },
  "cells": [
    {
      "cell_type": "markdown",
      "metadata": {
        "id": "view-in-github",
        "colab_type": "text"
      },
      "source": [
        "<a href=\"https://colab.research.google.com/github/ch00226855/CMP414765Spring2021/blob/main/Week05_LinearRegression.ipynb\" target=\"_parent\"><img src=\"https://colab.research.google.com/assets/colab-badge.svg\" alt=\"Open In Colab\"/></a>"
      ]
    },
    {
      "cell_type": "markdown",
      "metadata": {
        "id": "u7HIsHhxuk-V"
      },
      "source": [
        "# Week 5\r\n",
        "# Simple Linear Regression and the Normal Equation\r\n",
        "\r\n",
        "So far we have treated machine learning models and their training algorithms mostly like black boxes. Starting from Chapter 4, we will look into the mechanism of several popular machine learning models, analyze them mathematically and learn how to implement the methods from scratch. Let's start with the linear regression model.\r\n",
        "\r\n",
        "**Reading**: Textbook, Chapter 4"
      ]
    },
    {
      "cell_type": "markdown",
      "metadata": {
        "id": "aQ2Gz9YPupfu"
      },
      "source": [
        "## I. Simple Linear regression: Sales Prediction\r\n",
        "\r\n",
        "To put things into context, let's look at a dataset that contains the sales revenue and the advertising budgets of a company in 200 different markets."
      ]
    },
    {
      "cell_type": "code",
      "metadata": {
        "id": "OlGlaCOhupiD"
      },
      "source": [
        "import numpy as np\r\n",
        "import pandas as pd\r\n",
        "import matplotlib.pyplot as plt\r\n",
        "%matplotlib inline"
      ],
      "execution_count": null,
      "outputs": []
    },
    {
      "cell_type": "code",
      "metadata": {
        "id": "WQ6pwyVTupkY"
      },
      "source": [
        "url = \"https://www.statlearning.com/s/Advertising.csv\"\r\n",
        "advertising = pd.read_csv(url, index_col=0)\r\n",
        "advertising.head()"
      ],
      "execution_count": null,
      "outputs": []
    },
    {
      "cell_type": "code",
      "metadata": {
        "id": "S-euVXtvupmr"
      },
      "source": [
        "advertising.info()"
      ],
      "execution_count": null,
      "outputs": []
    },
    {
      "cell_type": "code",
      "metadata": {
        "id": "4eh00tLDuppH"
      },
      "source": [
        "advertising.describe()"
      ],
      "execution_count": null,
      "outputs": []
    },
    {
      "cell_type": "code",
      "metadata": {
        "id": "34vliqiQuprc"
      },
      "source": [
        "fig = advertising.hist(figsize=(10, 10))"
      ],
      "execution_count": null,
      "outputs": []
    },
    {
      "cell_type": "code",
      "metadata": {
        "id": "yfmol9Hxupt9"
      },
      "source": [
        "# plot TV vs. sales\r\n",
        "plt.plot(advertising['TV'], advertising['sales'], 'g.')\r\n",
        "plt.title(\"TV vs. sales\")\r\n",
        "plt.xlabel(\"TV budget\")\r\n",
        "plt.ylabel(\"Sales Revenue\")\r\n",
        "plt.savefig(\"TVvsSales.png\")\r\n",
        "plt.show() # this is needed in other Python environments"
      ],
      "execution_count": null,
      "outputs": []
    },
    {
      "cell_type": "code",
      "metadata": {
        "id": "IdmR2IQmupwR"
      },
      "source": [
        "# Exercise:\r\n",
        "# plot radio vs. sales\r\n",
        "\r\n"
      ],
      "execution_count": null,
      "outputs": []
    },
    {
      "cell_type": "code",
      "metadata": {
        "id": "IPWxPApfupy8"
      },
      "source": [
        "# Exercise:\r\n",
        "# plot newspaper vs. sales\r\n",
        "\r\n"
      ],
      "execution_count": null,
      "outputs": []
    },
    {
      "cell_type": "markdown",
      "metadata": {
        "id": "APBfXCE_up3Z"
      },
      "source": [
        "### Correlation Coefficient: Numerical Measure of Correlations\r\n",
        "The **correlation coefficient** is a numerical measurement of **linear correlation** between two variables.\r\n",
        "- The value of correlation coefficient always lies in [-1, 1].\r\n",
        "- If there is a strong positive correlation, then the coefficient is close to 1.\r\n",
        "- If there is a strong negative correlation, then the coefficient is close to -1.\r\n",
        "- If there is a very weak correlation, then the coefficient is close to 0.\r\n",
        "- However, a near-zero coeffient may be caused by non-linear correlations.\r\n",
        "![](https://upload.wikimedia.org/wikipedia/commons/d/d4/Correlation_examples2.svg)"
      ]
    },
    {
      "cell_type": "code",
      "metadata": {
        "id": "8jpDO9UFup5w"
      },
      "source": [
        "# Calculate pair-wise correlation coefficients\r\n",
        "advertising.corr()"
      ],
      "execution_count": null,
      "outputs": []
    },
    {
      "cell_type": "markdown",
      "metadata": {
        "id": "IRA9q_J0up8P"
      },
      "source": [
        "For simplicity, we will only use `TV` as a predictor of `sales`."
      ]
    },
    {
      "cell_type": "code",
      "metadata": {
        "id": "HmDGoPkTup-j"
      },
      "source": [
        "data = advertising.loc[:, ['TV', 'sales']]\r\n",
        "data.head()"
      ],
      "execution_count": null,
      "outputs": []
    },
    {
      "cell_type": "markdown",
      "metadata": {
        "id": "tx1p0xS8xn96"
      },
      "source": [
        "## Simple Linear Regression: Model Representation\r\n",
        "\r\n",
        "In order to describe the model mathematically, we need to introduce a few notations:\r\n",
        "- The input feature `TV` is represented as variable $X$.\r\n",
        "- The output/response feature `sales` is represented as variable $Y$.\r\n",
        "- Each instance of data is represented as $(x_i, y_i)$, where $i$ is the row index, $x_i$ is the value corresponding to $X$, and $y_i$ is the value corresponding to $Y$. For example, $(x_1, y_1) = (230.1, 22.1)$.\r\n",
        "\r\n",
        "The **simple linear regression** model assumes that the relationship between $X$ and $Y$ is\r\n",
        "$$Y \\approx f(X) = \\beta_0 + \\beta_1 X.$$\r\n",
        "\r\n",
        "- $\\beta_0$ and $\\beta_1$ are called **model parameters**. For simple linear regression, the relationship is characterized as a straight line with slope $\\beta_1$ and y-intercept $\\beta_0$.\r\n"
      ]
    },
    {
      "cell_type": "code",
      "metadata": {
        "id": "7OG0xPdQxowG"
      },
      "source": [
        "# Train a linear regression model using sklearn\r\n",
        "from sklearn.linear_model import LinearRegression\r\n",
        "model_lr = LinearRegression()\r\n",
        "model_lr.fit(data[['TV']], data[['sales']])"
      ],
      "execution_count": null,
      "outputs": []
    },
    {
      "cell_type": "code",
      "metadata": {
        "id": "p5ug-sihyEH2"
      },
      "source": [
        "# The coef_ and intercept_ attributes contain parameter values\r\n",
        "print(model_lr.coef_)\r\n",
        "print(model_lr.intercept_)"
      ],
      "execution_count": null,
      "outputs": []
    },
    {
      "cell_type": "code",
      "metadata": {
        "id": "7TgQXsAnyHT5"
      },
      "source": [
        "# Plot the data points and the optimal regression line.\r\n",
        "m = model_lr.coef_[0, 0]   # slope\r\n",
        "b = model_lr.intercept_[0] # y-intercept\r\n",
        "\r\n",
        "plt.plot(data['TV'], data['sales'], 'b.')\r\n",
        "x_coordinates = np.array([0,300])\r\n",
        "y_coordinates = x_coordinates * m + b\r\n",
        "plt.plot(x_coordinates, y_coordinates, 'g-')"
      ],
      "execution_count": null,
      "outputs": []
    },
    {
      "cell_type": "markdown",
      "metadata": {
        "id": "PDvJFvT-yME3"
      },
      "source": [
        "## Train A Simple Linear Regression Model\r\n",
        "\r\n",
        "- For a given set of model parameters, we need a **cost function** (in some occasions also called **loss function**) that measures how well a given line fits the data.\r\n",
        "- We also need a **training algorithm** that finds values of parameters so that the line fits the data well (usually \"fitting the data well\" means \"minimizing the cost\").\r\n",
        "\r\n",
        "For linear regression:\r\n",
        "- Cost function: \r\n",
        "    - Mean squared error (MSE)\r\n",
        "    - Mean absolute error (MAE)\r\n",
        "    - Other variants\r\n",
        "- Training algorithm: \r\n",
        "    - Normal equation\r\n",
        "    - Gradient descent"
      ]
    },
    {
      "cell_type": "markdown",
      "metadata": {
        "id": "aWHfwa8xzCh1"
      },
      "source": [
        "## Simple Linear Regression: Cost Function\r\n",
        "A common choice of cost function is the **mean squared error (MSE) function**. It is defined as\r\n",
        "$$\\begin{align}\r\n",
        "MSE(\\beta_0, \\beta_1) =& \r\n",
        "\\frac{1}{N}\\sum_{i=1}^N (y_i - f(x_i))^2 \\\\\r\n",
        "=& \\frac{1}{N}\\sum_{i=1}^N\\big(y_i - \\beta_0 - \\beta_1x_i\\big)^2.\r\n",
        "\\end{align}$$"
      ]
    },
    {
      "cell_type": "markdown",
      "metadata": {
        "id": "GW1mYje6zIm6"
      },
      "source": [
        "To better understand the MSE function, let's calculate the value $MSE(7.03, 0.04)$."
      ]
    },
    {
      "cell_type": "code",
      "metadata": {
        "id": "mO4pOxm4zZ-g"
      },
      "source": [
        "# Example:\r\n",
        "# Calculate the squared error of the model on the first record.\r\n",
        "\r\n",
        "beta0 = 7.03\r\n",
        "beta1 = 0.04\r\n",
        "\r\n",
        "x1 = data.loc[1, 'TV'] # 230.1\r\n",
        "y1 = data.loc[1, 'sales'] #22.1\r\n",
        "print(\"x1, y1:\", x1, y1)\r\n",
        "\r\n",
        "# Calculate f(x1) = beta0 + beta1 * x1\r\n",
        "\r\n",
        "\r\n",
        "# Calculate the squared error (y1 - f(x1)) ** 2\r\n",
        "\r\n",
        "\r\n",
        "print(\"Squared error:\", squared_error)"
      ],
      "execution_count": null,
      "outputs": []
    },
    {
      "cell_type": "code",
      "metadata": {
        "id": "z1sV3w--0A6i"
      },
      "source": [
        "# Example:\r\n",
        "# Calculate the squared error of the model on an arbitrary record.\r\n",
        "\r\n",
        "beta0 = 7.03\r\n",
        "beta1 = 0.04\r\n",
        "\r\n",
        "i = ??  # index of the record\r\n",
        "xi = ???\r\n",
        "yi = ???\r\n",
        "print(\"x1, y1:\", x1, y1)\r\n",
        "\r\n",
        "# Calculate f(xi)\r\n",
        "\r\n",
        "\r\n",
        "# Calculate the squared error (yi - f(xi)) ** 2\r\n",
        "\r\n",
        "\r\n",
        "print(\"Squared error:\", squared_error)"
      ],
      "execution_count": null,
      "outputs": []
    },
    {
      "cell_type": "code",
      "metadata": {
        "id": "zWD4Yuf20Vnn"
      },
      "source": [
        "# Write a function that produces the squared error given beta0, beta1, data, and i\r\n",
        "def get_squared_error(beta0, beta1, data, i):\r\n",
        "\r\n",
        "    pass"
      ],
      "execution_count": null,
      "outputs": []
    },
    {
      "cell_type": "code",
      "metadata": {
        "id": "DO0O9zPd0gto"
      },
      "source": [
        "# Create a list that contains value of (y_1 - f(x_1))^2 for i=1,...,200.\r\n",
        "list_errors = []\r\n",
        "for ind in data.index:\r\n",
        "    # call function `get_sqaured_error` with ind\r\n",
        "\r\n",
        "    # append squared error to `list_errors`\r\n",
        "\r\n",
        "    pass\r\n",
        "    \r\n",
        "print(list_errors)"
      ],
      "execution_count": null,
      "outputs": []
    },
    {
      "cell_type": "code",
      "metadata": {
        "id": "z-CuWXTJ0ymr"
      },
      "source": [
        "# Create list_errors using list comprehension\r\n",
        "\r\n"
      ],
      "execution_count": null,
      "outputs": []
    },
    {
      "cell_type": "code",
      "metadata": {
        "id": "jIvs1hdq05Et"
      },
      "source": [
        "# Calculate the MSE\r\n",
        "\r\n",
        "print(\"MSE:\", MSE)"
      ],
      "execution_count": null,
      "outputs": []
    },
    {
      "cell_type": "code",
      "metadata": {
        "id": "fjnGTY_809MO"
      },
      "source": [
        "# Write a function MSE(beta0, beta1, data) that returns the value of MSE with given beta0 and beta1.\r\n",
        "def get_MSE(beta0, beta1, data):\r\n",
        "\r\n",
        "    pass"
      ],
      "execution_count": null,
      "outputs": []
    },
    {
      "cell_type": "markdown",
      "metadata": {
        "id": "SGWuXzWK1AAK"
      },
      "source": [
        "Now, use function `get_MSE` to obtain the MSE for the following two sets of parameter values\r\n",
        "- Case 1: $\\beta_0 = 7.03, \\beta_1 = 0.04$\r\n",
        "- Case 2: $\\beta_0 = 5, \\beta_1 = 1$\r\n",
        "\r\n",
        "Which one fits the data better?"
      ]
    },
    {
      "cell_type": "code",
      "metadata": {
        "id": "-cSOk1Dw1aYm"
      },
      "source": [
        ""
      ],
      "execution_count": null,
      "outputs": []
    },
    {
      "cell_type": "markdown",
      "metadata": {
        "id": "C9nwZT2h1gWZ"
      },
      "source": [
        "Now that we have obtained the cost function, our next goal is to find the parameter values that minimizes the cost value."
      ]
    },
    {
      "cell_type": "markdown",
      "metadata": {
        "id": "CJakGFWK1vIq"
      },
      "source": [
        "# Simple Linear Regression: Training Algorithm\r\n",
        "To find the value of $\\beta_0, \\beta_1$ that minimizes the MSE cost function, there is a formula called the **normal equation** that gives the result directly:\r\n",
        "\r\n",
        "$$\\begin{pmatrix} \\beta_0 \\\\ \\beta_1 \\end{pmatrix} = (\\textbf{X}^T\\cdot\\textbf{X})^{-1}\\cdot\\textbf{X}^T\\cdot\\textbf{y}.$$\r\n",
        "\r\n",
        "- $\\textbf{X}$ is the matrix formed as \r\n",
        "$$\\textbf{X} = \\begin{pmatrix} \r\n",
        "1 & x_1 \\\\\r\n",
        "1 & x_2 \\\\\r\n",
        "\\vdots & \\vdots \\\\\r\n",
        "1 & x_N \\\\\r\n",
        "\\end{pmatrix}.$$\r\n",
        "- $\\textbf{X}$ represents the **matrix transpose** of $\\textbf{X}$.\r\n",
        "- $\\cdot$ represents **matrix multiplication**.\r\n",
        "- $^{-1}$ represents **matrix inverse**.\r\n",
        "- $\\textbf{y}$ is the vector of target values\r\n",
        "$$\\textbf{y} = \\begin{pmatrix} \r\n",
        "y_1 \\\\\r\n",
        "y_2 \\\\\r\n",
        "\\vdots \\\\\r\n",
        "y_N \\\\\r\n",
        "\\end{pmatrix}.$$"
      ]
    },
    {
      "cell_type": "markdown",
      "metadata": {
        "id": "M9LHCexK1wlQ"
      },
      "source": [
        "Let's apply the normal equation and find the best parameter values."
      ]
    },
    {
      "cell_type": "code",
      "metadata": {
        "id": "AWJkxe-31_D1"
      },
      "source": [
        "# Construct X and y as numpy arrays\r\n",
        "X = np.hstack([np.ones([len(data), 1]), data[['TV']].values])\r\n",
        "# print(X)\r\n",
        "y = data[['sales']].values\r\n",
        "# print(y)\r\n",
        "\r\n",
        "beta = np.linalg.inv(X.T.dot(X)).dot(X.T).dot(y)\r\n",
        "print(beta)"
      ],
      "execution_count": null,
      "outputs": []
    },
    {
      "cell_type": "code",
      "metadata": {
        "id": "qViLTn0d2B1f"
      },
      "source": [
        "get_MSE(7.03, 0.047, data)"
      ],
      "execution_count": null,
      "outputs": []
    },
    {
      "cell_type": "code",
      "metadata": {
        "id": "Pt2Y5UAO2Ddq"
      },
      "source": [
        "# Plot the data points and the optimal regression line.\r\n",
        "plt.plot(data['TV'], data['sales'], 'b.')\r\n",
        "x_coordinates = np.array([0,300])\r\n",
        "y_coordinates = x_coordinates * 0.047 + 7.03\r\n",
        "plt.plot(x_coordinates, y_coordinates, 'g-')"
      ],
      "execution_count": null,
      "outputs": []
    },
    {
      "cell_type": "code",
      "metadata": {
        "id": "vQaE6kul2Gy7"
      },
      "source": [
        ""
      ],
      "execution_count": null,
      "outputs": []
    }
  ]
}