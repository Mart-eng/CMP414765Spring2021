{
  "nbformat": 4,
  "nbformat_minor": 0,
  "metadata": {
    "colab": {
      "name": "Week04_ImageClassification",
      "provenance": [],
      "collapsed_sections": [],
      "authorship_tag": "ABX9TyM1K61TB1WiKzbhembcIwYX",
      "include_colab_link": true
    },
    "kernelspec": {
      "name": "python3",
      "display_name": "Python 3"
    }
  },
  "cells": [
    {
      "cell_type": "markdown",
      "metadata": {
        "id": "view-in-github",
        "colab_type": "text"
      },
      "source": [
        "<a href=\"https://colab.research.google.com/github/ch00226855/CMP414765Spring2021/blob/main/Week04_ImageClassification.ipynb\" target=\"_parent\"><img src=\"https://colab.research.google.com/assets/colab-badge.svg\" alt=\"Open In Colab\"/></a>"
      ]
    },
    {
      "cell_type": "markdown",
      "metadata": {
        "id": "u2SPPVbaymYj"
      },
      "source": [
        "# Week 4\r\n",
        "# An Image Classification Example\r\n",
        "- Learn about the MNIST hand-written digit data\r\n",
        "- Visualize and analyze the dataset\r\n",
        "- Apply simple SVM and kNN model to build a classifier\r\n",
        "- Evaluate the performance of the models\r\n",
        "\r\n",
        "*Readings*: Textbook Chapter 3"
      ]
    },
    {
      "cell_type": "markdown",
      "metadata": {
        "id": "ecxv-_CGyq4s"
      },
      "source": [
        "# I. The MNIST Data\r\n",
        "\r\n",
        "The **MNIST database** is a large database of handwritten digits that is commonly used for training various image processing systems. The images were collected from digits written by high school students and employees of the United States Census Bureau. The database has a training set of 60,000 examples, and a test set of 10,000 examples.\r\n",
        "\r\n",
        "The original dataset is in a format that is difficult for beginners to use. The data is transformed to CSV format [here](https://pjreddie.com/projects/mnist-in-csv/).\r\n",
        "\r\n",
        "- Right click on the hyperlink \"train set\" and click \"Copy Link Address\"\r\n",
        "- Use command `wget` to download the file to Colab environment.\r\n",
        "- Check the \"File\" tab on the left to confirm that the CSV file has been successfully downloaded.\r\n",
        "- Download `mnist_test.csv` in the same way."
      ]
    },
    {
      "cell_type": "code",
      "metadata": {
        "id": "SkYAyAL_yq7E"
      },
      "source": [
        "# Download the training CSV file\r\n",
        "!wget https://pjreddie.com/media/files/mnist_train.csv"
      ],
      "execution_count": null,
      "outputs": []
    },
    {
      "cell_type": "code",
      "metadata": {
        "id": "kEqduVHwyq9z"
      },
      "source": [
        "# Exercise: Download the test CSV file.\r\n",
        "\r\n"
      ],
      "execution_count": null,
      "outputs": []
    },
    {
      "cell_type": "code",
      "metadata": {
        "id": "yLxaueVPyrAV"
      },
      "source": [
        "import numpy as np\r\n",
        "import pandas as pd\r\n",
        "import matplotlib.pyplot as plt\r\n",
        "%matplotlib inline"
      ],
      "execution_count": null,
      "outputs": []
    },
    {
      "cell_type": "code",
      "metadata": {
        "id": "vsG0u_AYyrCP"
      },
      "source": [
        "# Load the training set and show its first 5 rows.\r\n",
        "raw_data = pd.read_csv(\"mnist_train.csv\", header=None, sep=',')\r\n",
        "raw_data.head()"
      ],
      "execution_count": null,
      "outputs": []
    },
    {
      "cell_type": "markdown",
      "metadata": {
        "id": "3yWsoCapyrG2"
      },
      "source": [
        "## II. Data Exploration\r\n",
        "- Show basic information about the dataset:\r\n",
        "    - size, column names, data types\r\n",
        "    - class frequencies for each categorical feature\r\n",
        "    - max, min, mean for each numerical feature\r\n",
        "    - correlation between the class feature and each input feature\r\n",
        "- Visualize a data example as an image."
      ]
    },
    {
      "cell_type": "code",
      "metadata": {
        "id": "Ao_bD1RuyrJe"
      },
      "source": [
        "# Size, column names, and data types\r\n",
        "\r\n"
      ],
      "execution_count": null,
      "outputs": []
    },
    {
      "cell_type": "code",
      "metadata": {
        "id": "RUPERhAAyrMG"
      },
      "source": [
        "# class frequencies for each categorical feature\r\n",
        "data = raw_data.rename({0: \"label\"}, axis=1)\r\n",
        "data['label'].value_counts().sort_index()"
      ],
      "execution_count": null,
      "outputs": []
    },
    {
      "cell_type": "code",
      "metadata": {
        "id": "d-gKhhnRyrOr"
      },
      "source": [
        "# Plot a bar chart to show class frequencies\r\n",
        "data['label'].value_counts().sort_index().plot.bar()"
      ],
      "execution_count": null,
      "outputs": []
    },
    {
      "cell_type": "code",
      "metadata": {
        "id": "-mC7yDpcyrRU"
      },
      "source": [
        "# maximum, minimum, and mean of numerical features\r\n",
        "\r\n"
      ],
      "execution_count": null,
      "outputs": []
    },
    {
      "cell_type": "code",
      "metadata": {
        "id": "bYxUNu4RyrTr"
      },
      "source": [
        "# Visualize data as images\r\n",
        "ind = 1\r\n",
        "input_features = [x for x in data.columns if x != \"label\"]\r\n",
        "data_example = data.loc[ind, input_features]\r\n",
        "print(data_example.shape)"
      ],
      "execution_count": null,
      "outputs": []
    },
    {
      "cell_type": "code",
      "metadata": {
        "id": "iwksPmFt0-h2"
      },
      "source": [
        "# Convert the data example to a numpy array\r\n",
        "data_example_array = data_example.values\r\n",
        "print(data_example_array.shape)"
      ],
      "execution_count": null,
      "outputs": []
    },
    {
      "cell_type": "code",
      "metadata": {
        "id": "F1zR-lHcyrWQ"
      },
      "source": [
        "# Transform the array to a 28*28 2D array\r\n",
        "data_example_array_transformed = data_example_array.reshape([28, 28])\r\n",
        "print(data_example_array_transformed.shape)\r\n",
        "print(data_example_array_transformed)"
      ],
      "execution_count": null,
      "outputs": []
    },
    {
      "cell_type": "code",
      "metadata": {
        "id": "nmP950pUyrYz"
      },
      "source": [
        "plt.imshow(data_example_array_transformed)"
      ],
      "execution_count": null,
      "outputs": []
    },
    {
      "cell_type": "code",
      "metadata": {
        "id": "FkKqHKDDyrbc"
      },
      "source": [
        "# Write a function to automate the process\r\n",
        "def get_image(data, ind):\r\n",
        "    # Use data.loc to extract the 784 pixel values\r\n",
        "    \r\n",
        "    input_features2 = [column for column in data.columns if column != 'label']\r\n",
        "    data_example = data.loc[ind, input_features2]\r\n",
        "    \r\n",
        "    \r\n",
        "    # Convert the list to a numpy array\r\n",
        "    data_example_numpyArray = data_example.values\r\n",
        "    \r\n",
        "    # Change the shape to [28, 28]\r\n",
        "    data_example_numpyArray_transformed = data_example_numpyArray.reshape([28,28])\r\n",
        "    \r\n",
        "    # Use imshow() to display the image.    \r\n",
        "    plt.imshow(data_example_numpyArray_transformed)\r\n",
        "    \r\n",
        "#     return data_example_array_transformed"
      ],
      "execution_count": null,
      "outputs": []
    },
    {
      "cell_type": "code",
      "metadata": {
        "id": "OU6gh5tCyrdo"
      },
      "source": [
        "ind = 123\r\n",
        "get_image(data, ind)"
      ],
      "execution_count": null,
      "outputs": []
    },
    {
      "cell_type": "markdown",
      "metadata": {
        "id": "dLHHJ-gy1nKA"
      },
      "source": [
        "## III. Build A Classifier"
      ]
    },
    {
      "cell_type": "code",
      "metadata": {
        "id": "TVS--UY-1qjS"
      },
      "source": [
        "# Create a smaller training set to reduce training time\r\n",
        "sample_size = 6000\r\n",
        "samples = np.random.choice(data.index, sample_size, replace=False)\r\n",
        "mnist_train_small = data.loc[samples]\r\n",
        "print(mnist_train_small.shape)"
      ],
      "execution_count": null,
      "outputs": []
    },
    {
      "cell_type": "code",
      "metadata": {
        "id": "XvnERBdE1tuZ"
      },
      "source": [
        "# Verify mnist_train_small still contains enough training examples for each label\r\n",
        "\r\n"
      ],
      "execution_count": null,
      "outputs": []
    },
    {
      "cell_type": "markdown",
      "metadata": {
        "id": "px3z7GE012O9"
      },
      "source": [
        "### 1. k-Nearest-Neighbor Method"
      ]
    },
    {
      "cell_type": "code",
      "metadata": {
        "id": "DF-mg7oU14I-"
      },
      "source": [
        "from sklearn.neighbors import KNeighborsClassifier\r\n",
        "knn = KNeighborsClassifier(n_neighbors=3)\r\n",
        "knn.fit(mnist_train_small[input_features], mnist_train_small['label'])"
      ],
      "execution_count": null,
      "outputs": []
    },
    {
      "cell_type": "code",
      "metadata": {
        "id": "tGYe64hP18EP"
      },
      "source": [
        "# Load the test set\r\n",
        "\r\n"
      ],
      "execution_count": null,
      "outputs": []
    },
    {
      "cell_type": "code",
      "metadata": {
        "id": "chQ_5nXM2BnL"
      },
      "source": [
        "# Use the model to make predictions on the test images\r\n",
        "\r\n"
      ],
      "execution_count": null,
      "outputs": []
    },
    {
      "cell_type": "code",
      "metadata": {
        "id": "ReMUL-o82CwA"
      },
      "source": [
        "# Compute prediction accuracy\r\n",
        "from sklearn.metrics import accuracy_score\r\n",
        "\r\n"
      ],
      "execution_count": null,
      "outputs": []
    },
    {
      "cell_type": "markdown",
      "metadata": {
        "id": "XAnfkc2m2JQb"
      },
      "source": [
        "### 2. Support Vector Machine"
      ]
    },
    {
      "cell_type": "code",
      "metadata": {
        "id": "0RH8a7M32Jc8"
      },
      "source": [
        "# Build a linear SVM classifier\r\n",
        "from sklearn.svm import LinearSVC\r\n",
        "\r\n"
      ],
      "execution_count": null,
      "outputs": []
    },
    {
      "cell_type": "code",
      "metadata": {
        "id": "qXyAwHeL2Jfc"
      },
      "source": [
        "# Use the model to make predictions on the test images\r\n",
        "\r\n"
      ],
      "execution_count": null,
      "outputs": []
    },
    {
      "cell_type": "code",
      "metadata": {
        "id": "Q8OmW7f42Jh0"
      },
      "source": [
        "# Calculate accuracy score\r\n",
        "\r\n"
      ],
      "execution_count": null,
      "outputs": []
    },
    {
      "cell_type": "markdown",
      "metadata": {
        "id": "__uNTGql2Jk0"
      },
      "source": [
        "## IV. Performance Evaluation\r\n",
        "- Test Accuracy\r\n",
        "- Error images\r\n",
        "- Confusion matrix\r\n",
        "\r\n",
        "Besides test accuracy, we should use other metrics to have a better understanding of how the models are performing on different type of inputs. Let's first find some images that are labeled incorrectly by the SVM model."
      ]
    },
    {
      "cell_type": "code",
      "metadata": {
        "id": "uoMXokqX2JnY"
      },
      "source": [
        "# Append predictions as a new column to the test data frame.\r\n",
        "\r\n"
      ],
      "execution_count": null,
      "outputs": []
    },
    {
      "cell_type": "code",
      "metadata": {
        "id": "GdlO5R0q2wsj"
      },
      "source": [
        "# Extract rows that are mis-classified\r\n",
        "\r\n"
      ],
      "execution_count": null,
      "outputs": []
    },
    {
      "cell_type": "code",
      "metadata": {
        "id": "ojoJP3xI2xE8"
      },
      "source": [
        "# Show one image that is incorrectly classified\r\n",
        "\r\n"
      ],
      "execution_count": null,
      "outputs": []
    },
    {
      "cell_type": "markdown",
      "metadata": {
        "id": "15PS8C6_2xHO"
      },
      "source": [
        "We can also look at the classification accuracy on each type of labels via the confusion matrix."
      ]
    },
    {
      "cell_type": "code",
      "metadata": {
        "id": "lDsYnzZ72xJ4"
      },
      "source": [
        "# Construct the confusion matrix\r\n",
        "from sklearn.metrics import confusion_matrix\r\n",
        "mat = confusion_matrix(test_predictions, mnist_test['label'])\r\n",
        "print(mat)"
      ],
      "execution_count": null,
      "outputs": []
    },
    {
      "cell_type": "code",
      "metadata": {
        "id": "aMb-7SkA2xMD"
      },
      "source": [
        "# Visualize the confusion matrix as an image\r\n",
        "\r\n",
        "\r\n"
      ],
      "execution_count": null,
      "outputs": []
    },
    {
      "cell_type": "code",
      "metadata": {
        "id": "aETkiWn22xOl"
      },
      "source": [
        ""
      ],
      "execution_count": null,
      "outputs": []
    }
  ]
}