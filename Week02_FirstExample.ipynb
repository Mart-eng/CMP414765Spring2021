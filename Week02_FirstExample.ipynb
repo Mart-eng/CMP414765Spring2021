{
  "nbformat": 4,
  "nbformat_minor": 0,
  "metadata": {
    "colab": {
      "name": "Copy of Week02_FirstExample",
      "provenance": [],
      "collapsed_sections": [],
      "authorship_tag": "ABX9TyMw9HFpPepfq1FdhV4vs64p",
      "include_colab_link": true
    },
    "kernelspec": {
      "name": "python3",
      "display_name": "Python 3"
    }
  },
  "cells": [
    {
      "cell_type": "markdown",
      "metadata": {
        "id": "view-in-github",
        "colab_type": "text"
      },
      "source": [
        "<a href=\"https://colab.research.google.com/github/ch00226855/CMP414765Spring2021/blob/main/Week02_FirstExample.ipynb\" target=\"_parent\"><img src=\"https://colab.research.google.com/assets/colab-badge.svg\" alt=\"Open In Colab\"/></a>"
      ]
    },
    {
      "cell_type": "markdown",
      "metadata": {
        "id": "ux7HKE_1cu88"
      },
      "source": [
        "# Week 2: First Machine Learning Example\r\n",
        "\r\n",
        "**Reading**: Chapter 1. The Machine Learning Landscape\r\n",
        "\r\n"
      ]
    },
    {
      "cell_type": "markdown",
      "metadata": {
        "id": "rddAEq-gefWH"
      },
      "source": [
        "## What is Machine Learning?\r\n",
        "\r\n",
        "Machine Learning is the science of programming computers so they can perform certain task with knowledge learned from data.\r\n",
        "\r\n",
        "**Example: spam filter**\r\n",
        "- Task: to flag spam for new emails\r\n",
        "- Data: existing emails with labels (either spam or non-spam)\r\n",
        "- Performance measure:\r\n",
        "    - percentage of correctly labeled emails\r\n",
        "    - percentage of a spam email being labeled correctly.\r\n",
        "    - percentage of a non-spam email being labeled correctly.\r\n",
        "    - Classification efficiency\r\n",
        "    - ..."
      ]
    },
    {
      "cell_type": "markdown",
      "metadata": {
        "id": "De99ptbCdN2Z"
      },
      "source": [
        "## Why Use Machine Learning?\r\n",
        "\r\n",
        "Traditional approach for spam filter:\r\n",
        "1. Choose features of spam emails manually: \"4U\", \"credit card\", \"free\", \"amazing\"\r\n",
        "2. Write an program to detect exactly the features you chose\r\n",
        "3. Test the program and modify the features until satisfactory\r\n",
        "\r\n",
        "Drawbacks of traditional approach: \r\n",
        "1. A large amount of features are needed - hard to maintain\r\n",
        "2. Spammers may change their writing to avoid explicit rules: change \"4U\" to \"For U\".\r\n",
        "3. For some complex problems, manually-engineered features are not good enough: hand-written digits\r\n",
        "\r\n",
        "Machine Learning models:\r\n",
        "1. Automatically learns which words and phrases are good predictors of spam. \r\n",
        "2. Since the program is not a stack of explicit rules, it is much shorter, easier to maintain, and most likely more accurate.\r\n",
        "3. With new training data, the Machine Learning model can update automatically to capture new indicators of spam emails.\r\n",
        "\r\n",
        "What Machine Learning is great for:\r\n",
        "1. Problems for which existing solutions require a lot of hand-tuning or long lists of rules: one Machine Learning algorithm can often simplify code and perform better.\r\n",
        "2. Complex problems for which there is no good solution at all using a traditional approach: the best Machine Learning techniques can find a solution.\r\n",
        "3. Fluctuating environments: a Machine Learning system can adapt to new data.\r\n",
        "4. Large amount of data: With Machine Learning, computers process big data faster than human.\r\n"
      ]
    },
    {
      "cell_type": "markdown",
      "metadata": {
        "id": "7vSCfx-OeLUQ"
      },
      "source": [
        "## First Example: Men's Height in the United States\r\n",
        "\r\n",
        "As an illustration of machine learning practice, let's consider the task of understanding the trend of American men's height in the 20th century. This project requires the following stages:\r\n",
        "- Data preparation\r\n",
        "- Data exploration\r\n",
        "- Model training\r\n",
        "- Model evaluation\r\n",
        "- Model application"
      ]
    },
    {
      "cell_type": "markdown",
      "metadata": {
        "id": "VMHJkGUFeySH"
      },
      "source": [
        "### 1. Download Data\r\n",
        "- Go to website:  https://ourworldindata.org/human-height\r\n",
        "- Find the interactive chart \"Increase of human height over two centuries\"\r\n",
        "- Click the \"Download\" tab, and download a CSV (comma-separated-values) file containing height data.\r\n",
        "\r\n",
        "After downloading, you can open it a text editor to view its content."
      ]
    },
    {
      "cell_type": "markdown",
      "metadata": {
        "id": "6zZpoKm1e3oC"
      },
      "source": [
        "### 2. Upload the CSV file to Google Colab\r\n",
        "- Click \"Files\" icon on the left column.\r\n",
        "- Click \"Upload to session storage\"\r\n",
        "- Upload the CSV file.\r\n",
        "\r\n",
        "Afterwards, you should see the file listed in the files tab.\r\n"
      ]
    },
    {
      "cell_type": "markdown",
      "metadata": {
        "id": "JqD2woXgfrPM"
      },
      "source": [
        "### 3. Load Data into Python\r\n",
        "- Import numpy, pandas, and matplotlib.\r\n",
        "- Load the data as a DataFrame using the following statement:\r\n",
        "`raw_data = pd.read_csv(filename, sep=',')`\r\n",
        "\r\n",
        "Now the data in the .csv file are loaded to the DataFrame `raw_data`. You can display its first 5 rows using `raw_data.head()`."
      ]
    },
    {
      "cell_type": "code",
      "metadata": {
        "id": "7ExZnG8QgAAG"
      },
      "source": [
        "import numpy as np  # scientific computation\r\n",
        "import pandas as pd  # data handling\r\n",
        "import matplotlib.pyplot as plt  # plotting\r\n",
        "# The following \"magic command\" allows figures to be displayed automatically in notebook\r\n",
        "%matplotlib inline  "
      ],
      "execution_count": 1,
      "outputs": []
    },
    {
      "cell_type": "code",
      "metadata": {
        "id": "cW4X7CP1gH35"
      },
      "source": [
        "raw_data = pd.read_csv(\"average-height-of-men-for-selected-countries.csv\", sep=',')"
      ],
      "execution_count": 2,
      "outputs": []
    },
    {
      "cell_type": "code",
      "metadata": {
        "id": "HKBx-e1dgdbd",
        "colab": {
          "base_uri": "https://localhost:8080/",
          "height": 203
        },
        "outputId": "387ab6bd-7301-4344-f85b-296b7030f761"
      },
      "source": [
        "raw_data.head(5)"
      ],
      "execution_count": 6,
      "outputs": [
        {
          "output_type": "execute_result",
          "data": {
            "text/html": [
              "<div>\n",
              "<style scoped>\n",
              "    .dataframe tbody tr th:only-of-type {\n",
              "        vertical-align: middle;\n",
              "    }\n",
              "\n",
              "    .dataframe tbody tr th {\n",
              "        vertical-align: top;\n",
              "    }\n",
              "\n",
              "    .dataframe thead th {\n",
              "        text-align: right;\n",
              "    }\n",
              "</style>\n",
              "<table border=\"1\" class=\"dataframe\">\n",
              "  <thead>\n",
              "    <tr style=\"text-align: right;\">\n",
              "      <th></th>\n",
              "      <th>Entity</th>\n",
              "      <th>Code</th>\n",
              "      <th>Year</th>\n",
              "      <th>Human Height (University of Tuebingen (2015))</th>\n",
              "    </tr>\n",
              "  </thead>\n",
              "  <tbody>\n",
              "    <tr>\n",
              "      <th>0</th>\n",
              "      <td>Afghanistan</td>\n",
              "      <td>AFG</td>\n",
              "      <td>1870</td>\n",
              "      <td>168.4</td>\n",
              "    </tr>\n",
              "    <tr>\n",
              "      <th>1</th>\n",
              "      <td>Afghanistan</td>\n",
              "      <td>AFG</td>\n",
              "      <td>1880</td>\n",
              "      <td>165.7</td>\n",
              "    </tr>\n",
              "    <tr>\n",
              "      <th>2</th>\n",
              "      <td>Afghanistan</td>\n",
              "      <td>AFG</td>\n",
              "      <td>1930</td>\n",
              "      <td>166.8</td>\n",
              "    </tr>\n",
              "    <tr>\n",
              "      <th>3</th>\n",
              "      <td>Albania</td>\n",
              "      <td>ALB</td>\n",
              "      <td>1880</td>\n",
              "      <td>170.1</td>\n",
              "    </tr>\n",
              "    <tr>\n",
              "      <th>4</th>\n",
              "      <td>Albania</td>\n",
              "      <td>ALB</td>\n",
              "      <td>1890</td>\n",
              "      <td>169.8</td>\n",
              "    </tr>\n",
              "  </tbody>\n",
              "</table>\n",
              "</div>"
            ],
            "text/plain": [
              "        Entity Code  Year  Human Height (University of Tuebingen (2015))\n",
              "0  Afghanistan  AFG  1870                                          168.4\n",
              "1  Afghanistan  AFG  1880                                          165.7\n",
              "2  Afghanistan  AFG  1930                                          166.8\n",
              "3      Albania  ALB  1880                                          170.1\n",
              "4      Albania  ALB  1890                                          169.8"
            ]
          },
          "metadata": {
            "tags": []
          },
          "execution_count": 6
        }
      ]
    },
    {
      "cell_type": "markdown",
      "metadata": {
        "id": "ZZzKoSzrgeIO"
      },
      "source": [
        "### DataFrame\r\n",
        "Data frame is a way to store data in rectangular grids that can easily be overviewed. Each row of these grids corresponds to measurements or values of an instance, while each column is a vector containing data for a specific variable. A data frame's row may contain different types of values: numeric, character, logical, etc.\r\n",
        "\r\n",
        "Data frames in Python come with the Pandas libarary, and they are defined as a two-dimensional labeled data structures with columns of potentially different types."
      ]
    },
    {
      "cell_type": "markdown",
      "metadata": {
        "id": "XNm4XTV7gmB6"
      },
      "source": [
        "### 4. Extract US Data\r\n",
        "- Create a filter on the rows with condition \"Entity = United States\"\r\n",
        "- Use the filter to select rows related to US.\r\n",
        "- Create another filter with condition \"Year >= 1900\", and use it to filter the data.\r\n",
        "- Display the resulting data frame."
      ]
    },
    {
      "cell_type": "code",
      "metadata": {
        "id": "OLgzJpv4g3Vs",
        "colab": {
          "base_uri": "https://localhost:8080/"
        },
        "outputId": "83ecc33b-b1c9-4f27-9c05-7e70d91272b9"
      },
      "source": [
        "filter1 = (raw_data['Entity'] == \"United States\")\r\n",
        "print(filter1)"
      ],
      "execution_count": 7,
      "outputs": [
        {
          "output_type": "stream",
          "text": [
            "0       False\n",
            "1       False\n",
            "2       False\n",
            "3       False\n",
            "4       False\n",
            "        ...  \n",
            "1245    False\n",
            "1246    False\n",
            "1247    False\n",
            "1248    False\n",
            "1249    False\n",
            "Name: Entity, Length: 1250, dtype: bool\n"
          ],
          "name": "stdout"
        }
      ]
    },
    {
      "cell_type": "code",
      "metadata": {
        "id": "9MBIpZxng5Fn",
        "colab": {
          "base_uri": "https://localhost:8080/",
          "height": 572
        },
        "outputId": "a64b8e60-181f-4cfb-a22a-5d5359ecc8ad"
      },
      "source": [
        "filter1 = (raw_data['Entity'] == \"United States\")\r\n",
        "data = raw_data[filter1]\r\n",
        "data"
      ],
      "execution_count": 8,
      "outputs": [
        {
          "output_type": "execute_result",
          "data": {
            "text/html": [
              "<div>\n",
              "<style scoped>\n",
              "    .dataframe tbody tr th:only-of-type {\n",
              "        vertical-align: middle;\n",
              "    }\n",
              "\n",
              "    .dataframe tbody tr th {\n",
              "        vertical-align: top;\n",
              "    }\n",
              "\n",
              "    .dataframe thead th {\n",
              "        text-align: right;\n",
              "    }\n",
              "</style>\n",
              "<table border=\"1\" class=\"dataframe\">\n",
              "  <thead>\n",
              "    <tr style=\"text-align: right;\">\n",
              "      <th></th>\n",
              "      <th>Entity</th>\n",
              "      <th>Code</th>\n",
              "      <th>Year</th>\n",
              "      <th>Human Height (University of Tuebingen (2015))</th>\n",
              "    </tr>\n",
              "  </thead>\n",
              "  <tbody>\n",
              "    <tr>\n",
              "      <th>1194</th>\n",
              "      <td>United States</td>\n",
              "      <td>USA</td>\n",
              "      <td>1820</td>\n",
              "      <td>172.2</td>\n",
              "    </tr>\n",
              "    <tr>\n",
              "      <th>1195</th>\n",
              "      <td>United States</td>\n",
              "      <td>USA</td>\n",
              "      <td>1830</td>\n",
              "      <td>173.5</td>\n",
              "    </tr>\n",
              "    <tr>\n",
              "      <th>1196</th>\n",
              "      <td>United States</td>\n",
              "      <td>USA</td>\n",
              "      <td>1840</td>\n",
              "      <td>172.2</td>\n",
              "    </tr>\n",
              "    <tr>\n",
              "      <th>1197</th>\n",
              "      <td>United States</td>\n",
              "      <td>USA</td>\n",
              "      <td>1850</td>\n",
              "      <td>171.1</td>\n",
              "    </tr>\n",
              "    <tr>\n",
              "      <th>1198</th>\n",
              "      <td>United States</td>\n",
              "      <td>USA</td>\n",
              "      <td>1860</td>\n",
              "      <td>170.6</td>\n",
              "    </tr>\n",
              "    <tr>\n",
              "      <th>1199</th>\n",
              "      <td>United States</td>\n",
              "      <td>USA</td>\n",
              "      <td>1870</td>\n",
              "      <td>171.1</td>\n",
              "    </tr>\n",
              "    <tr>\n",
              "      <th>1200</th>\n",
              "      <td>United States</td>\n",
              "      <td>USA</td>\n",
              "      <td>1880</td>\n",
              "      <td>169.5</td>\n",
              "    </tr>\n",
              "    <tr>\n",
              "      <th>1201</th>\n",
              "      <td>United States</td>\n",
              "      <td>USA</td>\n",
              "      <td>1890</td>\n",
              "      <td>169.1</td>\n",
              "    </tr>\n",
              "    <tr>\n",
              "      <th>1202</th>\n",
              "      <td>United States</td>\n",
              "      <td>USA</td>\n",
              "      <td>1900</td>\n",
              "      <td>170.0</td>\n",
              "    </tr>\n",
              "    <tr>\n",
              "      <th>1203</th>\n",
              "      <td>United States</td>\n",
              "      <td>USA</td>\n",
              "      <td>1910</td>\n",
              "      <td>172.1</td>\n",
              "    </tr>\n",
              "    <tr>\n",
              "      <th>1204</th>\n",
              "      <td>United States</td>\n",
              "      <td>USA</td>\n",
              "      <td>1920</td>\n",
              "      <td>173.1</td>\n",
              "    </tr>\n",
              "    <tr>\n",
              "      <th>1205</th>\n",
              "      <td>United States</td>\n",
              "      <td>USA</td>\n",
              "      <td>1930</td>\n",
              "      <td>173.4</td>\n",
              "    </tr>\n",
              "    <tr>\n",
              "      <th>1206</th>\n",
              "      <td>United States</td>\n",
              "      <td>USA</td>\n",
              "      <td>1940</td>\n",
              "      <td>176.1</td>\n",
              "    </tr>\n",
              "    <tr>\n",
              "      <th>1207</th>\n",
              "      <td>United States</td>\n",
              "      <td>USA</td>\n",
              "      <td>1950</td>\n",
              "      <td>177.1</td>\n",
              "    </tr>\n",
              "    <tr>\n",
              "      <th>1208</th>\n",
              "      <td>United States</td>\n",
              "      <td>USA</td>\n",
              "      <td>1960</td>\n",
              "      <td>177.3</td>\n",
              "    </tr>\n",
              "    <tr>\n",
              "      <th>1209</th>\n",
              "      <td>United States</td>\n",
              "      <td>USA</td>\n",
              "      <td>1970</td>\n",
              "      <td>178.3</td>\n",
              "    </tr>\n",
              "    <tr>\n",
              "      <th>1210</th>\n",
              "      <td>United States</td>\n",
              "      <td>USA</td>\n",
              "      <td>1980</td>\n",
              "      <td>179.0</td>\n",
              "    </tr>\n",
              "  </tbody>\n",
              "</table>\n",
              "</div>"
            ],
            "text/plain": [
              "             Entity Code  Year  Human Height (University of Tuebingen (2015))\n",
              "1194  United States  USA  1820                                          172.2\n",
              "1195  United States  USA  1830                                          173.5\n",
              "1196  United States  USA  1840                                          172.2\n",
              "1197  United States  USA  1850                                          171.1\n",
              "1198  United States  USA  1860                                          170.6\n",
              "1199  United States  USA  1870                                          171.1\n",
              "1200  United States  USA  1880                                          169.5\n",
              "1201  United States  USA  1890                                          169.1\n",
              "1202  United States  USA  1900                                          170.0\n",
              "1203  United States  USA  1910                                          172.1\n",
              "1204  United States  USA  1920                                          173.1\n",
              "1205  United States  USA  1930                                          173.4\n",
              "1206  United States  USA  1940                                          176.1\n",
              "1207  United States  USA  1950                                          177.1\n",
              "1208  United States  USA  1960                                          177.3\n",
              "1209  United States  USA  1970                                          178.3\n",
              "1210  United States  USA  1980                                          179.0"
            ]
          },
          "metadata": {
            "tags": []
          },
          "execution_count": 8
        }
      ]
    },
    {
      "cell_type": "code",
      "metadata": {
        "id": "da8hGRR2g7UB",
        "colab": {
          "base_uri": "https://localhost:8080/",
          "height": 203
        },
        "outputId": "6d7794ca-d01b-4189-dd2e-0562ffa34bc0"
      },
      "source": [
        "# You can combine the two steps in one statement\r\n",
        "data = raw_data[raw_data['Entity'] == \"United States\"]\r\n",
        "data.head()"
      ],
      "execution_count": 9,
      "outputs": [
        {
          "output_type": "execute_result",
          "data": {
            "text/html": [
              "<div>\n",
              "<style scoped>\n",
              "    .dataframe tbody tr th:only-of-type {\n",
              "        vertical-align: middle;\n",
              "    }\n",
              "\n",
              "    .dataframe tbody tr th {\n",
              "        vertical-align: top;\n",
              "    }\n",
              "\n",
              "    .dataframe thead th {\n",
              "        text-align: right;\n",
              "    }\n",
              "</style>\n",
              "<table border=\"1\" class=\"dataframe\">\n",
              "  <thead>\n",
              "    <tr style=\"text-align: right;\">\n",
              "      <th></th>\n",
              "      <th>Entity</th>\n",
              "      <th>Code</th>\n",
              "      <th>Year</th>\n",
              "      <th>Human Height (University of Tuebingen (2015))</th>\n",
              "    </tr>\n",
              "  </thead>\n",
              "  <tbody>\n",
              "    <tr>\n",
              "      <th>1194</th>\n",
              "      <td>United States</td>\n",
              "      <td>USA</td>\n",
              "      <td>1820</td>\n",
              "      <td>172.2</td>\n",
              "    </tr>\n",
              "    <tr>\n",
              "      <th>1195</th>\n",
              "      <td>United States</td>\n",
              "      <td>USA</td>\n",
              "      <td>1830</td>\n",
              "      <td>173.5</td>\n",
              "    </tr>\n",
              "    <tr>\n",
              "      <th>1196</th>\n",
              "      <td>United States</td>\n",
              "      <td>USA</td>\n",
              "      <td>1840</td>\n",
              "      <td>172.2</td>\n",
              "    </tr>\n",
              "    <tr>\n",
              "      <th>1197</th>\n",
              "      <td>United States</td>\n",
              "      <td>USA</td>\n",
              "      <td>1850</td>\n",
              "      <td>171.1</td>\n",
              "    </tr>\n",
              "    <tr>\n",
              "      <th>1198</th>\n",
              "      <td>United States</td>\n",
              "      <td>USA</td>\n",
              "      <td>1860</td>\n",
              "      <td>170.6</td>\n",
              "    </tr>\n",
              "  </tbody>\n",
              "</table>\n",
              "</div>"
            ],
            "text/plain": [
              "             Entity Code  Year  Human Height (University of Tuebingen (2015))\n",
              "1194  United States  USA  1820                                          172.2\n",
              "1195  United States  USA  1830                                          173.5\n",
              "1196  United States  USA  1840                                          172.2\n",
              "1197  United States  USA  1850                                          171.1\n",
              "1198  United States  USA  1860                                          170.6"
            ]
          },
          "metadata": {
            "tags": []
          },
          "execution_count": 9
        }
      ]
    },
    {
      "cell_type": "code",
      "metadata": {
        "id": "-W8UsV2an6H0",
        "colab": {
          "base_uri": "https://localhost:8080/",
          "height": 326
        },
        "outputId": "cd9a67c7-a036-47aa-cb5f-eea6bea48d5b"
      },
      "source": [
        "# Exercise:\r\n",
        "# Extract USA data since 1900.\r\n",
        "\r\n",
        "filter2 = (data[\"Year\"] >= 1900)\r\n",
        "data = data[filter2]\r\n",
        "data\r\n"
      ],
      "execution_count": 12,
      "outputs": [
        {
          "output_type": "execute_result",
          "data": {
            "text/html": [
              "<div>\n",
              "<style scoped>\n",
              "    .dataframe tbody tr th:only-of-type {\n",
              "        vertical-align: middle;\n",
              "    }\n",
              "\n",
              "    .dataframe tbody tr th {\n",
              "        vertical-align: top;\n",
              "    }\n",
              "\n",
              "    .dataframe thead th {\n",
              "        text-align: right;\n",
              "    }\n",
              "</style>\n",
              "<table border=\"1\" class=\"dataframe\">\n",
              "  <thead>\n",
              "    <tr style=\"text-align: right;\">\n",
              "      <th></th>\n",
              "      <th>Entity</th>\n",
              "      <th>Code</th>\n",
              "      <th>Year</th>\n",
              "      <th>Human Height (University of Tuebingen (2015))</th>\n",
              "    </tr>\n",
              "  </thead>\n",
              "  <tbody>\n",
              "    <tr>\n",
              "      <th>1202</th>\n",
              "      <td>United States</td>\n",
              "      <td>USA</td>\n",
              "      <td>1900</td>\n",
              "      <td>170.0</td>\n",
              "    </tr>\n",
              "    <tr>\n",
              "      <th>1203</th>\n",
              "      <td>United States</td>\n",
              "      <td>USA</td>\n",
              "      <td>1910</td>\n",
              "      <td>172.1</td>\n",
              "    </tr>\n",
              "    <tr>\n",
              "      <th>1204</th>\n",
              "      <td>United States</td>\n",
              "      <td>USA</td>\n",
              "      <td>1920</td>\n",
              "      <td>173.1</td>\n",
              "    </tr>\n",
              "    <tr>\n",
              "      <th>1205</th>\n",
              "      <td>United States</td>\n",
              "      <td>USA</td>\n",
              "      <td>1930</td>\n",
              "      <td>173.4</td>\n",
              "    </tr>\n",
              "    <tr>\n",
              "      <th>1206</th>\n",
              "      <td>United States</td>\n",
              "      <td>USA</td>\n",
              "      <td>1940</td>\n",
              "      <td>176.1</td>\n",
              "    </tr>\n",
              "    <tr>\n",
              "      <th>1207</th>\n",
              "      <td>United States</td>\n",
              "      <td>USA</td>\n",
              "      <td>1950</td>\n",
              "      <td>177.1</td>\n",
              "    </tr>\n",
              "    <tr>\n",
              "      <th>1208</th>\n",
              "      <td>United States</td>\n",
              "      <td>USA</td>\n",
              "      <td>1960</td>\n",
              "      <td>177.3</td>\n",
              "    </tr>\n",
              "    <tr>\n",
              "      <th>1209</th>\n",
              "      <td>United States</td>\n",
              "      <td>USA</td>\n",
              "      <td>1970</td>\n",
              "      <td>178.3</td>\n",
              "    </tr>\n",
              "    <tr>\n",
              "      <th>1210</th>\n",
              "      <td>United States</td>\n",
              "      <td>USA</td>\n",
              "      <td>1980</td>\n",
              "      <td>179.0</td>\n",
              "    </tr>\n",
              "  </tbody>\n",
              "</table>\n",
              "</div>"
            ],
            "text/plain": [
              "             Entity Code  Year  Human Height (University of Tuebingen (2015))\n",
              "1202  United States  USA  1900                                          170.0\n",
              "1203  United States  USA  1910                                          172.1\n",
              "1204  United States  USA  1920                                          173.1\n",
              "1205  United States  USA  1930                                          173.4\n",
              "1206  United States  USA  1940                                          176.1\n",
              "1207  United States  USA  1950                                          177.1\n",
              "1208  United States  USA  1960                                          177.3\n",
              "1209  United States  USA  1970                                          178.3\n",
              "1210  United States  USA  1980                                          179.0"
            ]
          },
          "metadata": {
            "tags": []
          },
          "execution_count": 12
        }
      ]
    },
    {
      "cell_type": "code",
      "metadata": {
        "colab": {
          "base_uri": "https://localhost:8080/",
          "height": 326
        },
        "id": "UvUf-IFLD4xy",
        "outputId": "0258fbae-ec8b-4f42-ed9d-074d726e0580"
      },
      "source": [
        "# We can apply both conditions in one statement.\r\n",
        "# Use bitwise operator: & (and), | (or), ~ (not)\r\n",
        "filter3 = (raw_data['Entity'] == \"United States\") & (raw_data['Year'] >= 1900)\r\n",
        "# print(filter3)\r\n",
        "data = raw_data[filter3]\r\n",
        "data"
      ],
      "execution_count": 16,
      "outputs": [
        {
          "output_type": "execute_result",
          "data": {
            "text/html": [
              "<div>\n",
              "<style scoped>\n",
              "    .dataframe tbody tr th:only-of-type {\n",
              "        vertical-align: middle;\n",
              "    }\n",
              "\n",
              "    .dataframe tbody tr th {\n",
              "        vertical-align: top;\n",
              "    }\n",
              "\n",
              "    .dataframe thead th {\n",
              "        text-align: right;\n",
              "    }\n",
              "</style>\n",
              "<table border=\"1\" class=\"dataframe\">\n",
              "  <thead>\n",
              "    <tr style=\"text-align: right;\">\n",
              "      <th></th>\n",
              "      <th>Entity</th>\n",
              "      <th>Code</th>\n",
              "      <th>Year</th>\n",
              "      <th>Human Height (University of Tuebingen (2015))</th>\n",
              "    </tr>\n",
              "  </thead>\n",
              "  <tbody>\n",
              "    <tr>\n",
              "      <th>1202</th>\n",
              "      <td>United States</td>\n",
              "      <td>USA</td>\n",
              "      <td>1900</td>\n",
              "      <td>170.0</td>\n",
              "    </tr>\n",
              "    <tr>\n",
              "      <th>1203</th>\n",
              "      <td>United States</td>\n",
              "      <td>USA</td>\n",
              "      <td>1910</td>\n",
              "      <td>172.1</td>\n",
              "    </tr>\n",
              "    <tr>\n",
              "      <th>1204</th>\n",
              "      <td>United States</td>\n",
              "      <td>USA</td>\n",
              "      <td>1920</td>\n",
              "      <td>173.1</td>\n",
              "    </tr>\n",
              "    <tr>\n",
              "      <th>1205</th>\n",
              "      <td>United States</td>\n",
              "      <td>USA</td>\n",
              "      <td>1930</td>\n",
              "      <td>173.4</td>\n",
              "    </tr>\n",
              "    <tr>\n",
              "      <th>1206</th>\n",
              "      <td>United States</td>\n",
              "      <td>USA</td>\n",
              "      <td>1940</td>\n",
              "      <td>176.1</td>\n",
              "    </tr>\n",
              "    <tr>\n",
              "      <th>1207</th>\n",
              "      <td>United States</td>\n",
              "      <td>USA</td>\n",
              "      <td>1950</td>\n",
              "      <td>177.1</td>\n",
              "    </tr>\n",
              "    <tr>\n",
              "      <th>1208</th>\n",
              "      <td>United States</td>\n",
              "      <td>USA</td>\n",
              "      <td>1960</td>\n",
              "      <td>177.3</td>\n",
              "    </tr>\n",
              "    <tr>\n",
              "      <th>1209</th>\n",
              "      <td>United States</td>\n",
              "      <td>USA</td>\n",
              "      <td>1970</td>\n",
              "      <td>178.3</td>\n",
              "    </tr>\n",
              "    <tr>\n",
              "      <th>1210</th>\n",
              "      <td>United States</td>\n",
              "      <td>USA</td>\n",
              "      <td>1980</td>\n",
              "      <td>179.0</td>\n",
              "    </tr>\n",
              "  </tbody>\n",
              "</table>\n",
              "</div>"
            ],
            "text/plain": [
              "             Entity Code  Year  Human Height (University of Tuebingen (2015))\n",
              "1202  United States  USA  1900                                          170.0\n",
              "1203  United States  USA  1910                                          172.1\n",
              "1204  United States  USA  1920                                          173.1\n",
              "1205  United States  USA  1930                                          173.4\n",
              "1206  United States  USA  1940                                          176.1\n",
              "1207  United States  USA  1950                                          177.1\n",
              "1208  United States  USA  1960                                          177.3\n",
              "1209  United States  USA  1970                                          178.3\n",
              "1210  United States  USA  1980                                          179.0"
            ]
          },
          "metadata": {
            "tags": []
          },
          "execution_count": 16
        }
      ]
    },
    {
      "cell_type": "markdown",
      "metadata": {
        "id": "1hany2AAnXGf"
      },
      "source": [
        "### 5. Clean the Dataset\r\n",
        "1. Reset the index.\r\n",
        "2. Remove Entity and Code column.\r\n",
        "3. Give a proper name to height column"
      ]
    },
    {
      "cell_type": "code",
      "metadata": {
        "id": "m62F50fQncBr",
        "colab": {
          "base_uri": "https://localhost:8080/",
          "height": 233
        },
        "outputId": "8bc638d8-0185-46c7-cdd9-fe2853c89d2e"
      },
      "source": [
        "data = data.set_index([\"Year\"])\r\n",
        "data.head()"
      ],
      "execution_count": 17,
      "outputs": [
        {
          "output_type": "execute_result",
          "data": {
            "text/html": [
              "<div>\n",
              "<style scoped>\n",
              "    .dataframe tbody tr th:only-of-type {\n",
              "        vertical-align: middle;\n",
              "    }\n",
              "\n",
              "    .dataframe tbody tr th {\n",
              "        vertical-align: top;\n",
              "    }\n",
              "\n",
              "    .dataframe thead th {\n",
              "        text-align: right;\n",
              "    }\n",
              "</style>\n",
              "<table border=\"1\" class=\"dataframe\">\n",
              "  <thead>\n",
              "    <tr style=\"text-align: right;\">\n",
              "      <th></th>\n",
              "      <th>Entity</th>\n",
              "      <th>Code</th>\n",
              "      <th>Human Height (University of Tuebingen (2015))</th>\n",
              "    </tr>\n",
              "    <tr>\n",
              "      <th>Year</th>\n",
              "      <th></th>\n",
              "      <th></th>\n",
              "      <th></th>\n",
              "    </tr>\n",
              "  </thead>\n",
              "  <tbody>\n",
              "    <tr>\n",
              "      <th>1900</th>\n",
              "      <td>United States</td>\n",
              "      <td>USA</td>\n",
              "      <td>170.0</td>\n",
              "    </tr>\n",
              "    <tr>\n",
              "      <th>1910</th>\n",
              "      <td>United States</td>\n",
              "      <td>USA</td>\n",
              "      <td>172.1</td>\n",
              "    </tr>\n",
              "    <tr>\n",
              "      <th>1920</th>\n",
              "      <td>United States</td>\n",
              "      <td>USA</td>\n",
              "      <td>173.1</td>\n",
              "    </tr>\n",
              "    <tr>\n",
              "      <th>1930</th>\n",
              "      <td>United States</td>\n",
              "      <td>USA</td>\n",
              "      <td>173.4</td>\n",
              "    </tr>\n",
              "    <tr>\n",
              "      <th>1940</th>\n",
              "      <td>United States</td>\n",
              "      <td>USA</td>\n",
              "      <td>176.1</td>\n",
              "    </tr>\n",
              "  </tbody>\n",
              "</table>\n",
              "</div>"
            ],
            "text/plain": [
              "             Entity Code  Human Height (University of Tuebingen (2015))\n",
              "Year                                                                   \n",
              "1900  United States  USA                                          170.0\n",
              "1910  United States  USA                                          172.1\n",
              "1920  United States  USA                                          173.1\n",
              "1930  United States  USA                                          173.4\n",
              "1940  United States  USA                                          176.1"
            ]
          },
          "metadata": {
            "tags": []
          },
          "execution_count": 17
        }
      ]
    },
    {
      "cell_type": "code",
      "metadata": {
        "id": "Rzq1Xbebndoy"
      },
      "source": [
        "data.drop([\"Entity\", 'Code'], axis=1, inplace=True) \r\n",
        "# axis specifies row drop or column drop\r\n",
        "# axis=0 means row drop\r\n",
        "# axis=1 means column drop\r\n",
        "# inplace determines whether the modification is done to the original data frame\r\n",
        "# inplace=True means modifying the original data frame\r\n",
        "# inplace=False means create a new data frame for the modification\r\n",
        "data.head()"
      ],
      "execution_count": null,
      "outputs": []
    },
    {
      "cell_type": "code",
      "metadata": {
        "colab": {
          "base_uri": "https://localhost:8080/",
          "height": 264
        },
        "id": "FDLINk9hIx8P",
        "outputId": "660a6671-4ce2-4902-df4e-6720877155bd"
      },
      "source": [
        "# Example: drop the first row and keep the results as a new data frame\r\n",
        "# data\r\n",
        "data_new = data.drop([1900, 1910, 1960], axis=0, inplace=False)\r\n",
        "data_new\r\n",
        "# data"
      ],
      "execution_count": 32,
      "outputs": [
        {
          "output_type": "execute_result",
          "data": {
            "text/html": [
              "<div>\n",
              "<style scoped>\n",
              "    .dataframe tbody tr th:only-of-type {\n",
              "        vertical-align: middle;\n",
              "    }\n",
              "\n",
              "    .dataframe tbody tr th {\n",
              "        vertical-align: top;\n",
              "    }\n",
              "\n",
              "    .dataframe thead th {\n",
              "        text-align: right;\n",
              "    }\n",
              "</style>\n",
              "<table border=\"1\" class=\"dataframe\">\n",
              "  <thead>\n",
              "    <tr style=\"text-align: right;\">\n",
              "      <th></th>\n",
              "      <th>Height(cm)</th>\n",
              "    </tr>\n",
              "    <tr>\n",
              "      <th>Year</th>\n",
              "      <th></th>\n",
              "    </tr>\n",
              "  </thead>\n",
              "  <tbody>\n",
              "    <tr>\n",
              "      <th>1920</th>\n",
              "      <td>173.1</td>\n",
              "    </tr>\n",
              "    <tr>\n",
              "      <th>1930</th>\n",
              "      <td>173.4</td>\n",
              "    </tr>\n",
              "    <tr>\n",
              "      <th>1940</th>\n",
              "      <td>176.1</td>\n",
              "    </tr>\n",
              "    <tr>\n",
              "      <th>1950</th>\n",
              "      <td>177.1</td>\n",
              "    </tr>\n",
              "    <tr>\n",
              "      <th>1970</th>\n",
              "      <td>178.3</td>\n",
              "    </tr>\n",
              "    <tr>\n",
              "      <th>1980</th>\n",
              "      <td>179.0</td>\n",
              "    </tr>\n",
              "  </tbody>\n",
              "</table>\n",
              "</div>"
            ],
            "text/plain": [
              "      Height(cm)\n",
              "Year            \n",
              "1920       173.1\n",
              "1930       173.4\n",
              "1940       176.1\n",
              "1950       177.1\n",
              "1970       178.3\n",
              "1980       179.0"
            ]
          },
          "metadata": {
            "tags": []
          },
          "execution_count": 32
        }
      ]
    },
    {
      "cell_type": "code",
      "metadata": {
        "id": "cLy9PtMlngqP",
        "colab": {
          "base_uri": "https://localhost:8080/",
          "height": 357
        },
        "outputId": "2a97e5d4-f7e8-4697-d46d-2e5490374630"
      },
      "source": [
        "data = data.rename(columns={'Human Height (University of Tuebingen (2015))': \"Height(cm)\"})\r\n",
        "data"
      ],
      "execution_count": 22,
      "outputs": [
        {
          "output_type": "execute_result",
          "data": {
            "text/html": [
              "<div>\n",
              "<style scoped>\n",
              "    .dataframe tbody tr th:only-of-type {\n",
              "        vertical-align: middle;\n",
              "    }\n",
              "\n",
              "    .dataframe tbody tr th {\n",
              "        vertical-align: top;\n",
              "    }\n",
              "\n",
              "    .dataframe thead th {\n",
              "        text-align: right;\n",
              "    }\n",
              "</style>\n",
              "<table border=\"1\" class=\"dataframe\">\n",
              "  <thead>\n",
              "    <tr style=\"text-align: right;\">\n",
              "      <th></th>\n",
              "      <th>Height(cm)</th>\n",
              "    </tr>\n",
              "    <tr>\n",
              "      <th>Year</th>\n",
              "      <th></th>\n",
              "    </tr>\n",
              "  </thead>\n",
              "  <tbody>\n",
              "    <tr>\n",
              "      <th>1900</th>\n",
              "      <td>170.0</td>\n",
              "    </tr>\n",
              "    <tr>\n",
              "      <th>1910</th>\n",
              "      <td>172.1</td>\n",
              "    </tr>\n",
              "    <tr>\n",
              "      <th>1920</th>\n",
              "      <td>173.1</td>\n",
              "    </tr>\n",
              "    <tr>\n",
              "      <th>1930</th>\n",
              "      <td>173.4</td>\n",
              "    </tr>\n",
              "    <tr>\n",
              "      <th>1940</th>\n",
              "      <td>176.1</td>\n",
              "    </tr>\n",
              "    <tr>\n",
              "      <th>1950</th>\n",
              "      <td>177.1</td>\n",
              "    </tr>\n",
              "    <tr>\n",
              "      <th>1960</th>\n",
              "      <td>177.3</td>\n",
              "    </tr>\n",
              "    <tr>\n",
              "      <th>1970</th>\n",
              "      <td>178.3</td>\n",
              "    </tr>\n",
              "    <tr>\n",
              "      <th>1980</th>\n",
              "      <td>179.0</td>\n",
              "    </tr>\n",
              "  </tbody>\n",
              "</table>\n",
              "</div>"
            ],
            "text/plain": [
              "      Height(cm)\n",
              "Year            \n",
              "1900       170.0\n",
              "1910       172.1\n",
              "1920       173.1\n",
              "1930       173.4\n",
              "1940       176.1\n",
              "1950       177.1\n",
              "1960       177.3\n",
              "1970       178.3\n",
              "1980       179.0"
            ]
          },
          "metadata": {
            "tags": []
          },
          "execution_count": 22
        }
      ]
    },
    {
      "cell_type": "markdown",
      "metadata": {
        "id": "JyEggVucno6r"
      },
      "source": [
        "### 6. Plot height vs. year\r\n",
        "- Extract the list of heights.\r\n",
        "- Extract the list of years.\r\n",
        "- Use `plt.plot()` to create a scatter plot."
      ]
    },
    {
      "cell_type": "code",
      "metadata": {
        "id": "eJie4oAOnvWo"
      },
      "source": [
        "heights = data['Height(cm)']\r\n",
        "years = data.index\r\n",
        "plt.plot(years, heights, 'g.')"
      ],
      "execution_count": null,
      "outputs": []
    },
    {
      "cell_type": "markdown",
      "metadata": {
        "id": "W4Lhccufnxsk"
      },
      "source": [
        "**How would you describe the trend?**\r\n",
        "1. Is there a trend?\r\n",
        "\r\n",
        "Answer: \r\n",
        "2. Is the trend upward or downward?\r\n",
        "\r\n",
        "Answer: \r\n",
        "3. It the trend consistent?\r\n",
        "\r\n",
        "Answer:\r\n",
        "\r\n",
        "**Conclusion**: "
      ]
    },
    {
      "cell_type": "markdown",
      "metadata": {
        "id": "pi2hHu3goFKy"
      },
      "source": [
        "## 7. Modeling\r\n",
        "\r\n",
        "Since we haven't studied any modeling method yet, let's use our intuition to find a function that describes the relation between year and height.\r\n",
        "- Linear model ($height = m \\cdot year + b$) seems a good fit to the data.\r\n",
        "- What is a good value for $m$?\r\n",
        "- What is a good value for $b$?\r\n",
        "- Plot the line represented by the linear model\r\n",
        "    - Create a list of x-coordinates using `np.linspace`\r\n",
        "    - Calculate the corresponding y-coordinates\r\n",
        "    - Use these two lists to plot the line."
      ]
    },
    {
      "cell_type": "code",
      "metadata": {
        "id": "TxAcEgyFoUFj"
      },
      "source": [
        "# Calculate the average increase per year between 1900 and 1980\r\n",
        "\r\n"
      ],
      "execution_count": null,
      "outputs": []
    },
    {
      "cell_type": "code",
      "metadata": {
        "id": "m73_5loQohPn"
      },
      "source": [
        "# Let the slope be the average rate of increase.\r\n",
        "# If the model is height = m * year + b, \r\n",
        "# find the value of b so that point (1900, 170.0) lies on the line.\r\n",
        "\r\n"
      ],
      "execution_count": null,
      "outputs": []
    },
    {
      "cell_type": "code",
      "metadata": {
        "id": "qGV3a7lzo3JE"
      },
      "source": [
        "# Plot the model line.\r\n",
        "\r\n"
      ],
      "execution_count": null,
      "outputs": []
    },
    {
      "cell_type": "markdown",
      "metadata": {
        "id": "cMVSz5VfpRg7"
      },
      "source": [
        "**Can you find another line that fits the model better?**"
      ]
    },
    {
      "cell_type": "code",
      "metadata": {
        "id": "i6ik6p7_pW0c"
      },
      "source": [
        ""
      ],
      "execution_count": null,
      "outputs": []
    },
    {
      "cell_type": "markdown",
      "metadata": {
        "id": "9AB-4-Nwo9is"
      },
      "source": [
        "## 8. Model Evaluation\r\n",
        "- Objective: find a linear model whose predictions are *close* to the actual values.\r\n",
        "- Metric on closeness: **mean square error (MSE):**\r\n",
        "$$MSE = \\frac{1}{\\textit{number of data}}\\sum_{\\text{(x, y) in dataset}}(mx + b - y)^2$$\r\n",
        "\r\n",
        "Now that we have multiple model candidates, which one gives the smallest MSE?"
      ]
    },
    {
      "cell_type": "code",
      "metadata": {
        "id": "s2wVync3pD7G"
      },
      "source": [
        "# Example: Calculate the error for 1930\r\n",
        "\r\n"
      ],
      "execution_count": null,
      "outputs": []
    },
    {
      "cell_type": "code",
      "metadata": {
        "id": "RMqGDiuNpcZc"
      },
      "source": [
        "# Calculate errors for each year\r\n",
        "\r\n"
      ],
      "execution_count": null,
      "outputs": []
    },
    {
      "cell_type": "code",
      "metadata": {
        "id": "FUEnKHRcpdon"
      },
      "source": [
        "# Calculate the mean squared error\r\n",
        "\r\n"
      ],
      "execution_count": null,
      "outputs": []
    },
    {
      "cell_type": "markdown",
      "metadata": {
        "id": "sc0mEvmEpg16"
      },
      "source": [
        "## 9: Use the Model\r\n",
        "- What is your prediction on the average height in 1890?, 2000? 2050?\r\n",
        "- Check with the raw dataset and see if your 1890 prediction is close."
      ]
    },
    {
      "cell_type": "code",
      "metadata": {
        "id": "3zAqiKt_plut"
      },
      "source": [
        "# Calculate the model prediction for year = 1890\r\n",
        "\r\n"
      ],
      "execution_count": null,
      "outputs": []
    },
    {
      "cell_type": "code",
      "metadata": {
        "id": "G4EcFjuLptma"
      },
      "source": [
        "# Find the actual average height for year 1890.\r\n",
        "\r\n"
      ],
      "execution_count": null,
      "outputs": []
    },
    {
      "cell_type": "markdown",
      "metadata": {
        "id": "pPPp2zEwpxl6"
      },
      "source": [
        "# Week 2 Homework\r\n",
        "Build a linear model (height = m * year + b) to escribe the trend of height increase for **United Kingdom** between 1900 and 1980. Compute the mean square error of your model, and display the model line together with the data points."
      ]
    },
    {
      "cell_type": "code",
      "metadata": {
        "id": "8b_i9qdkp95Q"
      },
      "source": [
        ""
      ],
      "execution_count": null,
      "outputs": []
    }
  ]
}