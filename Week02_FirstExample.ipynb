{
  "nbformat": 4,
  "nbformat_minor": 0,
  "metadata": {
    "colab": {
      "name": "Week02_FirstExample",
      "provenance": [],
      "collapsed_sections": [],
      "authorship_tag": "ABX9TyNnlzSKaaTjLu1Cl73XUe2L",
      "include_colab_link": true
    },
    "kernelspec": {
      "name": "python3",
      "display_name": "Python 3"
    }
  },
  "cells": [
    {
      "cell_type": "markdown",
      "metadata": {
        "id": "view-in-github",
        "colab_type": "text"
      },
      "source": [
        "<a href=\"https://colab.research.google.com/github/ch00226855/CMP414765Spring2021/blob/main/Week02_FirstExample.ipynb\" target=\"_parent\"><img src=\"https://colab.research.google.com/assets/colab-badge.svg\" alt=\"Open In Colab\"/></a>"
      ]
    },
    {
      "cell_type": "markdown",
      "metadata": {
        "id": "ux7HKE_1cu88"
      },
      "source": [
        "# Week 2: First Machine Learning Example\r\n",
        "\r\n",
        "**Reading**: Chapter 1. The Machine Learning Landscape\r\n",
        "\r\n"
      ]
    },
    {
      "cell_type": "markdown",
      "metadata": {
        "id": "rddAEq-gefWH"
      },
      "source": [
        "## What is Machine Learning?\r\n",
        "\r\n",
        "Machine Learning is the science of programming computers so they can perform certain task with knowledge learned from data.\r\n",
        "\r\n",
        "**Example: spam filter**\r\n",
        "- Task: to flag spam for new emails\r\n",
        "- Data: existing emails with labels (either spam or non-spam)\r\n",
        "- Performance measure:\r\n",
        "    - percentage of correctly labeled emails\r\n",
        "    - percentage of a spam email being labeled correctly.\r\n",
        "    - percentage of a non-spam email being labeled correctly.\r\n",
        "    - Classification efficiency\r\n",
        "    - ..."
      ]
    },
    {
      "cell_type": "markdown",
      "metadata": {
        "id": "De99ptbCdN2Z"
      },
      "source": [
        "## Why Use Machine Learning?\r\n",
        "\r\n",
        "Traditional approach for spam filter:\r\n",
        "1. Choose features of spam emails manually: \"4U\", \"credit card\", \"free\", \"amazing\"\r\n",
        "2. Write an program to detect exactly the features you chose\r\n",
        "3. Test the program and modify the features until satisfactory\r\n",
        "\r\n",
        "Drawbacks of traditional approach: \r\n",
        "1. A large amount of features are needed - hard to maintain\r\n",
        "2. Spammers may change their writing to avoid explicit rules: change \"4U\" to \"For U\".\r\n",
        "3. For some complex problems, manually-engineered features are not good enough: hand-written digits\r\n",
        "\r\n",
        "Machine Learning models:\r\n",
        "1. Automatically learns which words and phrases are good predictors of spam. \r\n",
        "2. Since the program is not a stack of explicit rules, it is much shorter, easier to maintain, and most likely more accurate.\r\n",
        "3. With new training data, the Machine Learning model can update automatically to capture new indicators of spam emails.\r\n",
        "\r\n",
        "What Machine Learning is great for:\r\n",
        "1. Problems for which existing solutions require a lot of hand-tuning or long lists of rules: one Machine Learning algorithm can often simplify code and perform better.\r\n",
        "2. Complex problems for which there is no good solution at all using a traditional approach: the best Machine Learning techniques can find a solution.\r\n",
        "3. Fluctuating environments: a Machine Learning system can adapt to new data.\r\n",
        "4. Large amount of data: With Machine Learning, computers process big data faster than human.\r\n"
      ]
    },
    {
      "cell_type": "markdown",
      "metadata": {
        "id": "7vSCfx-OeLUQ"
      },
      "source": [
        "## First Example: Men's Height in the United States\r\n",
        "\r\n",
        "As an illustration of machine learning practice, let's consider the task of understanding the trend of American men's height in the 20th century. This project requires the following stages:\r\n",
        "- Data preparation\r\n",
        "- Data exploration\r\n",
        "- Model training\r\n",
        "- Model evaluation\r\n",
        "- Model application"
      ]
    },
    {
      "cell_type": "markdown",
      "metadata": {
        "id": "VMHJkGUFeySH"
      },
      "source": [
        "### 1. Download Data\r\n",
        "- Go to website:  https://ourworldindata.org/human-height\r\n",
        "- Find the interactive chart \"Increase of human height over two centuries\"\r\n",
        "- Click the \"Download\" tab, and download a CSV (comma-separated-values) file containing height data.\r\n",
        "\r\n",
        "After downloading, you can open it a text editor to view its content."
      ]
    },
    {
      "cell_type": "markdown",
      "metadata": {
        "id": "6zZpoKm1e3oC"
      },
      "source": [
        "### 2. Upload the CSV file to Google Colab\r\n",
        "- Click \"Files\" icon on the left column.\r\n",
        "- Click \"Upload to session storage\"\r\n",
        "- Upload the CSV file.\r\n",
        "\r\n",
        "Afterwards, you should see the file listed in the files tab.\r\n"
      ]
    },
    {
      "cell_type": "markdown",
      "metadata": {
        "id": "JqD2woXgfrPM"
      },
      "source": [
        "### 3. Load Data into Python\r\n",
        "- Import numpy, pandas, and matplotlib.\r\n",
        "- Load the data as a DataFrame using the following statement:\r\n",
        "`raw_data = pd.read_csv(filename, sep=',')`\r\n",
        "\r\n",
        "Now the data in the .csv file are loaded to the DataFrame `raw_data`. You can display its first 5 rows using `raw_data.head()`."
      ]
    },
    {
      "cell_type": "code",
      "metadata": {
        "id": "7ExZnG8QgAAG"
      },
      "source": [
        "import numpy as np  # scientific computation\r\n",
        "import pandas as pd  # data handling\r\n",
        "import matplotlib.pyplot as plt  # plotting\r\n",
        "# The following \"magic command\" allows figures to be displayed automatically in notebook\r\n",
        "%matplotlib inline  "
      ],
      "execution_count": null,
      "outputs": []
    },
    {
      "cell_type": "code",
      "metadata": {
        "id": "cW4X7CP1gH35"
      },
      "source": [
        "raw_data = pd.read_csv(\"average-height-of-men-for-selected-countries.csv\", sep=',')"
      ],
      "execution_count": null,
      "outputs": []
    },
    {
      "cell_type": "code",
      "metadata": {
        "id": "HKBx-e1dgdbd"
      },
      "source": [
        "raw_data.head()"
      ],
      "execution_count": null,
      "outputs": []
    },
    {
      "cell_type": "markdown",
      "metadata": {
        "id": "ZZzKoSzrgeIO"
      },
      "source": [
        "### DataFrame\r\n",
        "Data frame is a way to store data in rectangular grids that can easily be overviewed. Each row of these grids corresponds to measurements or values of an instance, while each column is a vector containing data for a specific variable. A data frame's row may contain different types of values: numeric, character, logical, etc.\r\n",
        "\r\n",
        "Data frames in Python come with the Pandas libarary, and they are defined as a two-dimensional labeled data structures with columns of potentially different types."
      ]
    },
    {
      "cell_type": "markdown",
      "metadata": {
        "id": "XNm4XTV7gmB6"
      },
      "source": [
        "### 4. Extract US Data\r\n",
        "- Create a filter on the rows with condition \"Entity = United States\"\r\n",
        "- Use the filter to select rows related to US.\r\n",
        "- Create another filter with condition \"Year >= 1900\", and use it to filter the data.\r\n",
        "- Display the resulting data frame."
      ]
    },
    {
      "cell_type": "code",
      "metadata": {
        "id": "OLgzJpv4g3Vs"
      },
      "source": [
        "filter1 = (raw_data['Entity'] == \"United States\")\r\n",
        "print(filter1)"
      ],
      "execution_count": null,
      "outputs": []
    },
    {
      "cell_type": "code",
      "metadata": {
        "id": "9MBIpZxng5Fn"
      },
      "source": [
        "filter1 = (raw_data['Entity'] == \"United States\")\r\n",
        "data = raw_data[filter1]\r\n",
        "data"
      ],
      "execution_count": null,
      "outputs": []
    },
    {
      "cell_type": "code",
      "metadata": {
        "id": "da8hGRR2g7UB"
      },
      "source": [
        "# You can combine the two steps in one statement\r\n",
        "data = raw_data[raw_data['Entity'] == \"United States\"]\r\n",
        "data.head()"
      ],
      "execution_count": null,
      "outputs": []
    },
    {
      "cell_type": "code",
      "metadata": {
        "id": "-W8UsV2an6H0"
      },
      "source": [
        "# Exercise:\r\n",
        "# Extract USA data since 1900.\r\n",
        "\r\n"
      ],
      "execution_count": null,
      "outputs": []
    },
    {
      "cell_type": "markdown",
      "metadata": {
        "id": "1hany2AAnXGf"
      },
      "source": [
        "### 5. Clean the Dataset\r\n",
        "1. Reset the index.\r\n",
        "2. Remove Entity and Code column.\r\n",
        "3. Give a proper name to height column"
      ]
    },
    {
      "cell_type": "code",
      "metadata": {
        "id": "m62F50fQncBr"
      },
      "source": [
        "data = data.set_index([\"Year\"])\r\n",
        "data.head()"
      ],
      "execution_count": null,
      "outputs": []
    },
    {
      "cell_type": "code",
      "metadata": {
        "id": "Rzq1Xbebndoy"
      },
      "source": [
        "data.drop(['Entity', 'Code'], axis=1, inplace=True) # axis specifies row drop or column drop\r\n",
        "data.head()"
      ],
      "execution_count": null,
      "outputs": []
    },
    {
      "cell_type": "code",
      "metadata": {
        "id": "cLy9PtMlngqP"
      },
      "source": [
        "data = data.rename(columns={'Human Height (University of Tuebingen (2015))': \"Height(cm)\"})\r\n",
        "data.tail()"
      ],
      "execution_count": null,
      "outputs": []
    },
    {
      "cell_type": "markdown",
      "metadata": {
        "id": "JyEggVucno6r"
      },
      "source": [
        "### 6. Plot height vs. year\r\n",
        "- Extract the list of heights.\r\n",
        "- Extract the list of years.\r\n",
        "- Use `plt.plot()` to create a scatter plot."
      ]
    },
    {
      "cell_type": "code",
      "metadata": {
        "id": "eJie4oAOnvWo"
      },
      "source": [
        "heights = data['Height(cm)']\r\n",
        "years = data.index\r\n",
        "plt.plot(years, heights, 'g.')"
      ],
      "execution_count": null,
      "outputs": []
    },
    {
      "cell_type": "markdown",
      "metadata": {
        "id": "W4Lhccufnxsk"
      },
      "source": [
        "**How would you describe the trend?**\r\n",
        "1. Is there a trend?\r\n",
        "\r\n",
        "Answer: \r\n",
        "2. Is the trend upward or downward?\r\n",
        "\r\n",
        "Answer: \r\n",
        "3. It the trend consistent?\r\n",
        "\r\n",
        "Answer:\r\n",
        "\r\n",
        "**Conclusion**: "
      ]
    },
    {
      "cell_type": "markdown",
      "metadata": {
        "id": "pi2hHu3goFKy"
      },
      "source": [
        "## 7. Modeling\r\n",
        "\r\n",
        "Since we haven't studied any modeling method yet, let's use our intuition to find a function that describes the relation between year and height.\r\n",
        "- Linear model ($height = m \\cdot year + b$) seems a good fit to the data.\r\n",
        "- What is a good value for $m$?\r\n",
        "- What is a good value for $b$?\r\n",
        "- Plot the line represented by the linear model\r\n",
        "    - Create a list of x-coordinates using `np.linspace`\r\n",
        "    - Calculate the corresponding y-coordinates\r\n",
        "    - Use these two lists to plot the line."
      ]
    },
    {
      "cell_type": "code",
      "metadata": {
        "id": "TxAcEgyFoUFj"
      },
      "source": [
        "# Calculate the average increase per year between 1900 and 1980\r\n",
        "\r\n"
      ],
      "execution_count": null,
      "outputs": []
    },
    {
      "cell_type": "code",
      "metadata": {
        "id": "m73_5loQohPn"
      },
      "source": [
        "# Let the slope be the average rate of increase.\r\n",
        "# If the model is height = m * year + b, \r\n",
        "# find the value of b so that point (1900, 170.0) lies on the line.\r\n",
        "\r\n"
      ],
      "execution_count": null,
      "outputs": []
    },
    {
      "cell_type": "code",
      "metadata": {
        "id": "qGV3a7lzo3JE"
      },
      "source": [
        "# Plot the model line.\r\n",
        "\r\n"
      ],
      "execution_count": null,
      "outputs": []
    },
    {
      "cell_type": "markdown",
      "metadata": {
        "id": "cMVSz5VfpRg7"
      },
      "source": [
        "**Can you find another line that fits the model better?**"
      ]
    },
    {
      "cell_type": "code",
      "metadata": {
        "id": "i6ik6p7_pW0c"
      },
      "source": [
        ""
      ],
      "execution_count": null,
      "outputs": []
    },
    {
      "cell_type": "markdown",
      "metadata": {
        "id": "9AB-4-Nwo9is"
      },
      "source": [
        "## 8. Model Evaluation\r\n",
        "- Objective: find a linear model whose predictions are *close* to the actual values.\r\n",
        "- Metric on closeness: **mean square error (MSE):**\r\n",
        "$$MSE = \\frac{1}{\\textit{number of data}}\\sum_{\\text{(x, y) in dataset}}(mx + b - y)^2$$\r\n",
        "\r\n",
        "Now that we have multiple model candidates, which one gives the smallest MSE?"
      ]
    },
    {
      "cell_type": "code",
      "metadata": {
        "id": "s2wVync3pD7G"
      },
      "source": [
        "# Example: Calculate the error for 1930\r\n",
        "\r\n"
      ],
      "execution_count": null,
      "outputs": []
    },
    {
      "cell_type": "code",
      "metadata": {
        "id": "RMqGDiuNpcZc"
      },
      "source": [
        "# Calculate errors for each year\r\n",
        "\r\n"
      ],
      "execution_count": null,
      "outputs": []
    },
    {
      "cell_type": "code",
      "metadata": {
        "id": "FUEnKHRcpdon"
      },
      "source": [
        "# Calculate the mean squared error\r\n",
        "\r\n"
      ],
      "execution_count": null,
      "outputs": []
    },
    {
      "cell_type": "markdown",
      "metadata": {
        "id": "sc0mEvmEpg16"
      },
      "source": [
        "## 9: Use the Model\r\n",
        "- What is your prediction on the average height in 1890?, 2000? 2050?\r\n",
        "- Check with the raw dataset and see if your 1890 prediction is close."
      ]
    },
    {
      "cell_type": "code",
      "metadata": {
        "id": "3zAqiKt_plut"
      },
      "source": [
        "# Calculate the model prediction for year = 1890\r\n",
        "\r\n"
      ],
      "execution_count": null,
      "outputs": []
    },
    {
      "cell_type": "code",
      "metadata": {
        "id": "G4EcFjuLptma"
      },
      "source": [
        "# Find the actual average height for year 1890.\r\n",
        "\r\n"
      ],
      "execution_count": null,
      "outputs": []
    },
    {
      "cell_type": "markdown",
      "metadata": {
        "id": "pPPp2zEwpxl6"
      },
      "source": [
        "# Week 2 Homework\r\n",
        "Build a linear model (height = m * year + b) to escribe the trend of height increase for **United Kingdom** between 1900 and 1980. Compute the mean square error of your model, and display the model line together with the data points."
      ]
    },
    {
      "cell_type": "code",
      "metadata": {
        "id": "8b_i9qdkp95Q"
      },
      "source": [
        ""
      ],
      "execution_count": null,
      "outputs": []
    }
  ]
}