{
  "nbformat": 4,
  "nbformat_minor": 0,
  "metadata": {
    "kernelspec": {
      "display_name": "Python 3",
      "language": "python",
      "name": "python3"
    },
    "language_info": {
      "codemirror_mode": {
        "name": "ipython",
        "version": 3
      },
      "file_extension": ".py",
      "mimetype": "text/x-python",
      "name": "python",
      "nbconvert_exporter": "python",
      "pygments_lexer": "ipython3",
      "version": "3.8.3"
    },
    "colab": {
      "name": "IntroToPython.ipynb",
      "provenance": [],
      "include_colab_link": true
    }
  },
  "cells": [
    {
      "cell_type": "markdown",
      "metadata": {
        "id": "view-in-github",
        "colab_type": "text"
      },
      "source": [
        "<a href=\"https://colab.research.google.com/github/ch00226855/CMP414765Spring2021/blob/main/Week1_IntroToPython.ipynb\" target=\"_parent\"><img src=\"https://colab.research.google.com/assets/colab-badge.svg\" alt=\"Open In Colab\"/></a>"
      ]
    },
    {
      "cell_type": "markdown",
      "metadata": {
        "id": "Lz5BrMH3Toom"
      },
      "source": [
        "# Week 1\n",
        "# Introduction to Python\n",
        "\n",
        "Python is today's most popular programming language. It is easy to learn, and has several very powerful scientific computing libraries, making it a powerful environment for scientific computing.\n",
        "\n",
        "This tutorial will cover basic features of python and two of its libraries: numpy and matplotlib.\n",
        "\n",
        "This notebook can be opened in Google Colab via this button:\n",
        "\n",
        "<a href=\"https://colab.research.google.com/github/ch00226855/CMP414765Spring2021/blob/main/IntroToPython.ipynb\" target=\"_parent\"><img src=\"https://colab.research.google.com/assets/colab-badge.svg\" alt=\"Open In Colab\"/></a>"
      ]
    },
    {
      "cell_type": "markdown",
      "metadata": {
        "id": "QVQGk8J7dxP1"
      },
      "source": [
        "## 1. Hello World"
      ]
    },
    {
      "cell_type": "code",
      "metadata": {
        "id": "hb1QWIR-Toou"
      },
      "source": [
        "# Print Hello World\r\n",
        "\r\n"
      ],
      "execution_count": 1,
      "outputs": []
    },
    {
      "cell_type": "markdown",
      "metadata": {
        "id": "TRyN_aCIdkii"
      },
      "source": [
        "## 2. Variables\r\n",
        "- Declare a variable\r\n",
        "- Variable types"
      ]
    },
    {
      "cell_type": "code",
      "metadata": {
        "id": "X_G-ucJbd4m5",
        "outputId": "f5bab4c5-c5b6-43e4-e2ba-17ca0827dd43",
        "colab": {
          "base_uri": "https://localhost:8080/"
        }
      },
      "source": [
        "# Variable are declared without specifying types\r\n",
        "a = 4\r\n",
        "b = -5\r\n",
        "print(a + b)"
      ],
      "execution_count": 2,
      "outputs": [
        {
          "output_type": "stream",
          "text": [
            "-1\n"
          ],
          "name": "stdout"
        }
      ]
    },
    {
      "cell_type": "code",
      "metadata": {
        "id": "FqO3FNvId-pI",
        "outputId": "2c2ecb2f-15f3-43eb-9732-cbf918020e39",
        "colab": {
          "base_uri": "https://localhost:8080/"
        }
      },
      "source": [
        "# The type of a variable is automatically determined\r\n",
        "a1 = 4\r\n",
        "a2 = \"4\"\r\n",
        "print(type(a1))\r\n",
        "print(type(a2))"
      ],
      "execution_count": 3,
      "outputs": [
        {
          "output_type": "stream",
          "text": [
            "<class 'int'>\n",
            "<class 'str'>\n"
          ],
          "name": "stdout"
        }
      ]
    },
    {
      "cell_type": "code",
      "metadata": {
        "id": "OLj0R_VqeLIS",
        "outputId": "99e3f438-c661-4a0f-aeff-3e5df60b0ddd",
        "colab": {
          "base_uri": "https://localhost:8080/"
        }
      },
      "source": [
        "# Other commonly-used types are float and boolean\r\n",
        "c = 1.5\r\n",
        "d = True\r\n",
        "print(type(c))\r\n",
        "print(type(d))"
      ],
      "execution_count": 4,
      "outputs": [
        {
          "output_type": "stream",
          "text": [
            "<class 'float'>\n",
            "<class 'bool'>\n"
          ],
          "name": "stdout"
        }
      ]
    },
    {
      "cell_type": "code",
      "metadata": {
        "id": "3dHuCZtueV2D"
      },
      "source": [
        "# Variable types can be changed like this:\r\n",
        "float_a = float(a)\r\n",
        "\r\n",
        "# Exercise: show the variable type of float_a\r\n",
        "\r\n"
      ],
      "execution_count": 5,
      "outputs": []
    },
    {
      "cell_type": "markdown",
      "metadata": {
        "id": "j5khvCpgeezq"
      },
      "source": [
        "## 3. Arithmetics"
      ]
    },
    {
      "cell_type": "code",
      "metadata": {
        "id": "0igCkYAdeku-"
      },
      "source": [
        "# +, -, *, /"
      ],
      "execution_count": 7,
      "outputs": []
    },
    {
      "cell_type": "code",
      "metadata": {
        "id": "I0WohlTFeobE",
        "outputId": "644fdc2f-b1d1-4637-eb76-0faa7b0e6193",
        "colab": {
          "base_uri": "https://localhost:8080/"
        }
      },
      "source": [
        "# // -> integer division\r\n",
        "print(4 / 3) # gives a floating point number\r\n",
        "print(4 // 3) # integer division always give an integer as answer"
      ],
      "execution_count": 8,
      "outputs": [
        {
          "output_type": "stream",
          "text": [
            "1.3333333333333333\n",
            "1\n"
          ],
          "name": "stdout"
        }
      ]
    },
    {
      "cell_type": "code",
      "metadata": {
        "id": "wYXg_9Fnexhj",
        "outputId": "2e01401d-3cd2-458b-b4bc-73c93ae43ce2",
        "colab": {
          "base_uri": "https://localhost:8080/"
        }
      },
      "source": [
        "# % -> Get remainder from integer division\r\n",
        "print(5 % 3) "
      ],
      "execution_count": 9,
      "outputs": [
        {
          "output_type": "stream",
          "text": [
            "2\n"
          ],
          "name": "stdout"
        }
      ]
    },
    {
      "cell_type": "code",
      "metadata": {
        "id": "vpjAWYCze1kM",
        "outputId": "2fadcbe7-946e-4fdd-90be-5a3a6463c726",
        "colab": {
          "base_uri": "https://localhost:8080/"
        }
      },
      "source": [
        "# ** -> powers\r\n",
        "print(3 ** 2) # represents 3 to the power of 2 = 9\r\n",
        "print(3 ** (1/2)) # square root of 3"
      ],
      "execution_count": 10,
      "outputs": [
        {
          "output_type": "stream",
          "text": [
            "9\n",
            "1.7320508075688772\n"
          ],
          "name": "stdout"
        }
      ]
    },
    {
      "cell_type": "markdown",
      "metadata": {
        "id": "oVGyc0Ege73q"
      },
      "source": [
        "Exercise: quadratic formula:\r\n",
        "\r\n",
        "$x = \\frac{-b \\pm \\sqrt{b^2 - 4ac}}{2a}$"
      ]
    },
    {
      "cell_type": "code",
      "metadata": {
        "id": "NOI9dMrme-vB"
      },
      "source": [
        "# Use quadratic formulat to solve equation x**2 - 5x + 4 = 0\r\n",
        "a = 1\r\n",
        "b = -5\r\n",
        "c = 4\r\n",
        "\r\n",
        "x1 = \r\n",
        "x2 = \r\n",
        "\r\n",
        "print(x1, x2)"
      ],
      "execution_count": null,
      "outputs": []
    },
    {
      "cell_type": "markdown",
      "metadata": {
        "id": "cRyFUKAwfWJS"
      },
      "source": [
        "## 4. Assignment Operators"
      ]
    },
    {
      "cell_type": "code",
      "metadata": {
        "id": "Ws6n-DSdfeKR",
        "outputId": "061a29d5-6256-440a-a20f-292ebc26b14e",
        "colab": {
          "base_uri": "https://localhost:8080/"
        }
      },
      "source": [
        "a = 1\r\n",
        "a += 1 # a = a + 1\r\n",
        "print(a)"
      ],
      "execution_count": 11,
      "outputs": [
        {
          "output_type": "stream",
          "text": [
            "2\n"
          ],
          "name": "stdout"
        }
      ]
    },
    {
      "cell_type": "code",
      "metadata": {
        "id": "hMK9CWGSfh2R",
        "outputId": "379e5009-90b4-49c4-e0cc-bc3ea69060a0",
        "colab": {
          "base_uri": "https://localhost:8080/"
        }
      },
      "source": [
        "b, c, d = 2, 3, 4\r\n",
        "b -= 5\r\n",
        "c *= 10\r\n",
        "d /= 2\r\n",
        "print(b, c, d)"
      ],
      "execution_count": 12,
      "outputs": [
        {
          "output_type": "stream",
          "text": [
            "-3 30 2.0\n"
          ],
          "name": "stdout"
        }
      ]
    },
    {
      "cell_type": "markdown",
      "metadata": {
        "id": "mboXt1rtfiW8"
      },
      "source": [
        "## 5. Logical Operators"
      ]
    },
    {
      "cell_type": "code",
      "metadata": {
        "id": "RRsX5UM3fk9A",
        "outputId": "1de59c0b-0eaf-4cb4-fa3f-97bb82fee851",
        "colab": {
          "base_uri": "https://localhost:8080/"
        }
      },
      "source": [
        "t, f = True, False\r\n",
        "print(t, f)"
      ],
      "execution_count": 13,
      "outputs": [
        {
          "output_type": "stream",
          "text": [
            "True False\n"
          ],
          "name": "stdout"
        }
      ]
    },
    {
      "cell_type": "code",
      "metadata": {
        "id": "vjU1ZTcmfl49",
        "outputId": "1adc71a2-4619-498f-d1ae-1879664adaeb",
        "colab": {
          "base_uri": "https://localhost:8080/"
        }
      },
      "source": [
        "print(True or False) # \"or\" means or\r\n",
        "print(True and False) # \"and\" means and\r\n",
        "print(not True)\r\n",
        "print(not False)"
      ],
      "execution_count": 14,
      "outputs": [
        {
          "output_type": "stream",
          "text": [
            "True\n",
            "False\n",
            "False\n",
            "True\n"
          ],
          "name": "stdout"
        }
      ]
    },
    {
      "cell_type": "code",
      "metadata": {
        "id": "U0BJn7LffnPu",
        "outputId": "d6ca2473-bb18-4b52-b7e4-91f1d78aa0d4",
        "colab": {
          "base_uri": "https://localhost:8080/"
        }
      },
      "source": [
        "# Comparisons: >, <, ==, !=, >=, <=\r\n",
        "exp1 = (a > 5) and (b < 3)\r\n",
        "print(a, b, exp1)"
      ],
      "execution_count": 15,
      "outputs": [
        {
          "output_type": "stream",
          "text": [
            "2 -3 False\n"
          ],
          "name": "stdout"
        }
      ]
    },
    {
      "cell_type": "markdown",
      "metadata": {
        "id": "jzsZKSN-fpMn"
      },
      "source": [
        "## 6. Strings"
      ]
    },
    {
      "cell_type": "code",
      "metadata": {
        "id": "5kzC2YhRfrUB",
        "outputId": "472ab5aa-9353-4afb-fc39-f6db71e334a2",
        "colab": {
          "base_uri": "https://localhost:8080/"
        }
      },
      "source": [
        "str1 = \"Hello\"\r\n",
        "str2 = 'World'\r\n",
        "str3 = '3'\r\n",
        "print(type(str3))\r\n",
        "print(str1 + str2 + str3) # Use \"+\" to concatenate strings\r\n",
        "print(\"My \\n Name \\n Is \\t Liang.\")\r\n",
        "print('I said \"Good Morning\"') # If the string contains \"\", then use '' to define the string\r\n",
        "print(\"I said \\\"Good Morning\\\"\")"
      ],
      "execution_count": 16,
      "outputs": [
        {
          "output_type": "stream",
          "text": [
            "<class 'str'>\n",
            "HelloWorld3\n",
            "My \n",
            " Name \n",
            " Is \t Liang.\n",
            "I said \"Good Morning\"\n",
            "I said \"Good Morning\"\n"
          ],
          "name": "stdout"
        }
      ]
    },
    {
      "cell_type": "code",
      "metadata": {
        "id": "rBzL3xRGfuTd",
        "outputId": "1bccd512-0894-4a9a-9262-591b4d868bb5",
        "colab": {
          "base_uri": "https://localhost:8080/"
        }
      },
      "source": [
        "# Remove extra space at the beginning and the end of a string\r\n",
        "data_value = \"     Liang Zhao     \"\r\n",
        "my_name = \"Liang Zhao\"\r\n",
        "print(data_value == my_name)\r\n",
        "print(data_value.strip())"
      ],
      "execution_count": 17,
      "outputs": [
        {
          "output_type": "stream",
          "text": [
            "False\n",
            "Liang Zhao\n"
          ],
          "name": "stdout"
        }
      ]
    },
    {
      "cell_type": "code",
      "metadata": {
        "id": "ODUH7f93fywM",
        "outputId": "198cc8a7-809e-492d-b590-3e91d2ce2a78",
        "colab": {
          "base_uri": "https://localhost:8080/"
        }
      },
      "source": [
        "# Split a string\r\n",
        "file_names = \"Alex, Bob, Clare, David\"\r\n",
        "file_names.split(\", \")"
      ],
      "execution_count": 18,
      "outputs": [
        {
          "output_type": "execute_result",
          "data": {
            "text/plain": [
              "['Alex', 'Bob', 'Clare', 'David']"
            ]
          },
          "metadata": {
            "tags": []
          },
          "execution_count": 18
        }
      ]
    },
    {
      "cell_type": "code",
      "metadata": {
        "id": "RMVTAFyvf0R3",
        "outputId": "2a37d970-5676-4a5f-9975-08060d43712f",
        "colab": {
          "base_uri": "https://localhost:8080/"
        }
      },
      "source": [
        "# String formatting\r\n",
        "float_num = 45.67898765\r\n",
        "print(float_num)\r\n",
        "print(\"%5.2f\" % (float_num))\r\n",
        "formatted_string = \"Name: %10s | Score: %5d | Value: %.2f\" % (\"Alex\", 89, 12.345)\r\n",
        "print(formatted_string)\r\n",
        "formatted_string = \"Name: %10s | Score: %5d | Value: %.2f\" % (\"Bob\", 9, 543.21)\r\n",
        "print(formatted_string)"
      ],
      "execution_count": 19,
      "outputs": [
        {
          "output_type": "stream",
          "text": [
            "45.67898765\n",
            "45.68\n",
            "Name:       Alex | Score:    89 | Value: 12.35\n",
            "Name:        Bob | Score:     9 | Value: 543.21\n"
          ],
          "name": "stdout"
        }
      ]
    },
    {
      "cell_type": "markdown",
      "metadata": {
        "id": "MaW9r2J9f4Y3"
      },
      "source": [
        "## 7. Data Containers\r\n",
        "Data containers are structures used to contain multiple values. "
      ]
    },
    {
      "cell_type": "code",
      "metadata": {
        "id": "vyWnAkAWgCLa"
      },
      "source": [
        "# List\r\n",
        "list1 = [1, 2, 3, 4, 6.5, \"Monday\", True]"
      ],
      "execution_count": 20,
      "outputs": []
    },
    {
      "cell_type": "code",
      "metadata": {
        "id": "5zur4jongEFu",
        "outputId": "1780287a-2b01-42fc-d695-56cac3aac158",
        "colab": {
          "base_uri": "https://localhost:8080/"
        }
      },
      "source": [
        "print(list1)\r\n",
        "list1.append(12)\r\n",
        "print(list1)"
      ],
      "execution_count": 22,
      "outputs": [
        {
          "output_type": "stream",
          "text": [
            "[1, 2, 3, 4, 6.5, 'Monday', True]\n",
            "[1, 2, 3, 4, 6.5, 'Monday', True, 12]\n"
          ],
          "name": "stdout"
        }
      ]
    },
    {
      "cell_type": "code",
      "metadata": {
        "id": "uMP2tVcjgF8J",
        "outputId": "99819b7a-cadb-4e35-972e-dd9b624fd00c",
        "colab": {
          "base_uri": "https://localhost:8080/"
        }
      },
      "source": [
        "val = list1.pop()\r\n",
        "print(val)\r\n",
        "print(list1)"
      ],
      "execution_count": 23,
      "outputs": [
        {
          "output_type": "stream",
          "text": [
            "12\n",
            "[1, 2, 3, 4, 6.5, 'Monday', True]\n"
          ],
          "name": "stdout"
        }
      ]
    },
    {
      "cell_type": "code",
      "metadata": {
        "id": "t2bXvoYwgHct",
        "outputId": "a528d4cb-a07a-4350-8fe1-590702b77f60",
        "colab": {
          "base_uri": "https://localhost:8080/"
        }
      },
      "source": [
        "# Indexing\r\n",
        "print(list1[0])\r\n",
        "print(list1[1])\r\n",
        "print(list1[-1])\r\n",
        "print(list1[-2])\r\n",
        "print(list1[2:5]) # the second index is exclusive\r\n",
        "print(list1[:5]) # omitting the first index means starting from 0\r\n",
        "print(list1[2:]) # omitting the second index means going to the end\r\n",
        "print(list1[:]) "
      ],
      "execution_count": 24,
      "outputs": [
        {
          "output_type": "stream",
          "text": [
            "1\n",
            "2\n",
            "True\n",
            "Monday\n",
            "[3, 4, 6.5]\n",
            "[1, 2, 3, 4, 6.5]\n",
            "[3, 4, 6.5, 'Monday', True]\n",
            "[1, 2, 3, 4, 6.5, 'Monday', True]\n"
          ],
          "name": "stdout"
        }
      ]
    },
    {
      "cell_type": "code",
      "metadata": {
        "id": "A_7NLo32gJWF",
        "outputId": "45dded22-91ae-4867-aad1-4b60b456299d",
        "colab": {
          "base_uri": "https://localhost:8080/"
        }
      },
      "source": [
        "len(list1)"
      ],
      "execution_count": 25,
      "outputs": [
        {
          "output_type": "execute_result",
          "data": {
            "text/plain": [
              "7"
            ]
          },
          "metadata": {
            "tags": []
          },
          "execution_count": 25
        }
      ]
    },
    {
      "cell_type": "code",
      "metadata": {
        "id": "u60JO2tagLLg",
        "outputId": "ec16f32d-fbdd-4b42-8cd5-0c604ceed540",
        "colab": {
          "base_uri": "https://localhost:8080/"
        }
      },
      "source": [
        "# Set\r\n",
        "set1 = {1, 2, 3, 3, 2, 1}\r\n",
        "print(set1)"
      ],
      "execution_count": 26,
      "outputs": [
        {
          "output_type": "stream",
          "text": [
            "{1, 2, 3}\n"
          ],
          "name": "stdout"
        }
      ]
    },
    {
      "cell_type": "code",
      "metadata": {
        "id": "WglaNODSgNI8",
        "outputId": "4a5bc967-aa24-450e-eee0-334f1fc3f2c2",
        "colab": {
          "base_uri": "https://localhost:8080/"
        }
      },
      "source": [
        "# Tuple\r\n",
        "tuple1 = (1, 2, 3)\r\n",
        "tuple2 = (2, 3, 1)\r\n",
        "print(tuple1 == tuple2)"
      ],
      "execution_count": 27,
      "outputs": [
        {
          "output_type": "stream",
          "text": [
            "False\n"
          ],
          "name": "stdout"
        }
      ]
    },
    {
      "cell_type": "code",
      "metadata": {
        "id": "JnK4x1psgPcE"
      },
      "source": [
        ""
      ],
      "execution_count": null,
      "outputs": []
    }
  ]
}