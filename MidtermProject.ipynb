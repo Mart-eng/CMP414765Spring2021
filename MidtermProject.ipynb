{
  "nbformat": 4,
  "nbformat_minor": 0,
  "metadata": {
    "colab": {
      "name": "MidtermProject",
      "provenance": [],
      "authorship_tag": "ABX9TyNBsODd6lifO5VPVH7BJ8RS",
      "include_colab_link": true
    },
    "kernelspec": {
      "name": "python3",
      "display_name": "Python 3"
    }
  },
  "cells": [
    {
      "cell_type": "markdown",
      "metadata": {
        "id": "view-in-github",
        "colab_type": "text"
      },
      "source": [
        "<a href=\"https://colab.research.google.com/github/ch00226855/CMP414765Spring2021/blob/main/MidtermProject.ipynb\" target=\"_parent\"><img src=\"https://colab.research.google.com/assets/colab-badge.svg\" alt=\"Open In Colab\"/></a>"
      ]
    },
    {
      "cell_type": "markdown",
      "metadata": {
        "id": "laRpm7hK8pSi"
      },
      "source": [
        "# Artificial Intelligence Midterm Project\r\n",
        "\r\n",
        "In this project, you will build a regression model and a classification model from scratch. Please follow the instructions closely, and only use Python's Numpy, Pandas, and matplotlib library to complete this project. Using functions from `sklearn` is not allowed.\r\n",
        "\r\n",
        "**Part I** dues on Monday, March 22nd at 11:59 PM.\r\n",
        "**Part II** dues on Monday, April 12th at 11:59 PM."
      ]
    },
    {
      "cell_type": "code",
      "metadata": {
        "id": "bo6dHwyJyEik"
      },
      "source": [
        "import numpy as np\r\n",
        "import pandas as pd\r\n",
        "import matplotlib.pyplot as plt\r\n",
        "%matplotlib inline"
      ],
      "execution_count": 17,
      "outputs": []
    },
    {
      "cell_type": "markdown",
      "metadata": {
        "id": "V4Jn_QfFyP08"
      },
      "source": [
        "## Part I: A Regression Model\r\n",
        "\r\n",
        "In this part, please build a multilinear regression model that extracts the relationship between housing prices and other relevant variables. The training data is shown in the table below:\r\n"
      ]
    },
    {
      "cell_type": "code",
      "metadata": {
        "colab": {
          "base_uri": "https://localhost:8080/",
          "height": 202
        },
        "id": "goxKcZMU8uwh",
        "outputId": "650651f0-d886-4e23-d6bf-cb532feefeec"
      },
      "source": [
        "data1 = pd.DataFrame({\r\n",
        "    \"YearBuilt\": [1974, 1996, 1968, 1962, 1960],\r\n",
        "    \"YearSold\": [2015, 2017, 2020, 2010, 2016],\r\n",
        "    \"Bedrooms\": [3, 10, 4, 5, 6],\r\n",
        "    \"TotalArea\": [1500, 4000, 1700, 2500, 2000],\r\n",
        "    \"Quality\": [7.5, 6, 4, 5.5, 5],\r\n",
        "    \"Price\": [358500, 452600, 352100, 341300, 342200]\r\n",
        "})\r\n",
        "\r\n",
        "data1"
      ],
      "execution_count": 13,
      "outputs": [
        {
          "output_type": "execute_result",
          "data": {
            "text/html": [
              "<div>\n",
              "<style scoped>\n",
              "    .dataframe tbody tr th:only-of-type {\n",
              "        vertical-align: middle;\n",
              "    }\n",
              "\n",
              "    .dataframe tbody tr th {\n",
              "        vertical-align: top;\n",
              "    }\n",
              "\n",
              "    .dataframe thead th {\n",
              "        text-align: right;\n",
              "    }\n",
              "</style>\n",
              "<table border=\"1\" class=\"dataframe\">\n",
              "  <thead>\n",
              "    <tr style=\"text-align: right;\">\n",
              "      <th></th>\n",
              "      <th>YearBuilt</th>\n",
              "      <th>YearSold</th>\n",
              "      <th>Bedrooms</th>\n",
              "      <th>TotalArea</th>\n",
              "      <th>Quality</th>\n",
              "      <th>Price</th>\n",
              "    </tr>\n",
              "  </thead>\n",
              "  <tbody>\n",
              "    <tr>\n",
              "      <th>0</th>\n",
              "      <td>1974</td>\n",
              "      <td>2015</td>\n",
              "      <td>3</td>\n",
              "      <td>1500</td>\n",
              "      <td>7.5</td>\n",
              "      <td>358500</td>\n",
              "    </tr>\n",
              "    <tr>\n",
              "      <th>1</th>\n",
              "      <td>1996</td>\n",
              "      <td>2017</td>\n",
              "      <td>10</td>\n",
              "      <td>4000</td>\n",
              "      <td>6.0</td>\n",
              "      <td>452600</td>\n",
              "    </tr>\n",
              "    <tr>\n",
              "      <th>2</th>\n",
              "      <td>1968</td>\n",
              "      <td>2020</td>\n",
              "      <td>4</td>\n",
              "      <td>1700</td>\n",
              "      <td>4.0</td>\n",
              "      <td>352100</td>\n",
              "    </tr>\n",
              "    <tr>\n",
              "      <th>3</th>\n",
              "      <td>1962</td>\n",
              "      <td>2010</td>\n",
              "      <td>5</td>\n",
              "      <td>2500</td>\n",
              "      <td>5.5</td>\n",
              "      <td>341300</td>\n",
              "    </tr>\n",
              "    <tr>\n",
              "      <th>4</th>\n",
              "      <td>1960</td>\n",
              "      <td>2016</td>\n",
              "      <td>6</td>\n",
              "      <td>2000</td>\n",
              "      <td>5.0</td>\n",
              "      <td>342200</td>\n",
              "    </tr>\n",
              "  </tbody>\n",
              "</table>\n",
              "</div>"
            ],
            "text/plain": [
              "   YearBuilt  YearSold  Bedrooms  TotalArea  Quality   Price\n",
              "0       1974      2015         3       1500      7.5  358500\n",
              "1       1996      2017        10       4000      6.0  452600\n",
              "2       1968      2020         4       1700      4.0  352100\n",
              "3       1962      2010         5       2500      5.5  341300\n",
              "4       1960      2016         6       2000      5.0  342200"
            ]
          },
          "metadata": {
            "tags": []
          },
          "execution_count": 13
        }
      ]
    },
    {
      "cell_type": "markdown",
      "metadata": {
        "id": "Yk67CJ87BqaU"
      },
      "source": [
        "### Task 1: Data Transformation (10 pts)\r\n",
        "Create a new column named \"Age\" that represents the age of each house when it was sold."
      ]
    },
    {
      "cell_type": "code",
      "metadata": {
        "id": "cs9awohjBqMT"
      },
      "source": [
        "# Your Code Here\r\n",
        "\r\n"
      ],
      "execution_count": 14,
      "outputs": []
    },
    {
      "cell_type": "markdown",
      "metadata": {
        "id": "kBzHY7sj-6P5"
      },
      "source": [
        "### Task 2: Train a Multilinear Model (20 pts)\r\n",
        "Assume that the price can be expressed as a linear combination of age, bedrooms, total area, and quality:\r\n",
        "\r\n",
        "$Price = \\theta_0 + \\theta_1 \\cdot Age + \\theta_2 \\cdot Bedrooms + \\theta_3 \\cdot TotalArea + \\theta_4 \\cdot Quality.$\r\n",
        "\r\n",
        "Apply the normal equation to find the best values for the parameters:\r\n",
        "1. Construct matrix $\\textbf{X}$ and $\\textbf{y}$ (the matrices are defined in Week 6 notebook and Chapter 4 of the textbook).\r\n",
        "2. Calculate the parameter vector using the normal equation\r\n",
        "$\\theta = \\big(\\textbf{X}^T\\cdot\\textbf{X}\\big)^{-1}\\cdot\\textbf{X}^T\\cdot\\textbf{y}$"
      ]
    },
    {
      "cell_type": "code",
      "metadata": {
        "id": "E_K5F4oD-S6Y"
      },
      "source": [
        "# Your Code Here\r\n",
        "\r\n"
      ],
      "execution_count": null,
      "outputs": []
    },
    {
      "cell_type": "markdown",
      "metadata": {
        "id": "CYhiUFfuAVjM"
      },
      "source": [
        "### Task 3: Make A Prediction (10 pts)\r\n",
        "Suppose that there is another house with the following attribute:\r\n",
        "- YearBuilt: 1985\r\n",
        "- YearSold: 2021\r\n",
        "- Bedrooms: 6\r\n",
        "- Total Area: 2500\r\n",
        "- Quality: 5.5\r\n",
        "\r\n",
        "Use the parameter values that you have calculated to make a prediction on its sale price."
      ]
    },
    {
      "cell_type": "code",
      "metadata": {
        "id": "RxMICEwzAVll"
      },
      "source": [
        "# Your Code Here\r\n",
        "\r\n"
      ],
      "execution_count": 12,
      "outputs": []
    },
    {
      "cell_type": "markdown",
      "metadata": {
        "id": "TESGJJp2AVoN"
      },
      "source": [
        "## Part II: A Classification Model\r\n",
        "\r\n",
        "In this part, we will build a logistic regression model and evaluate its performance on the classifying the data. The dataset is as follows:\r\n"
      ]
    },
    {
      "cell_type": "code",
      "metadata": {
        "colab": {
          "base_uri": "https://localhost:8080/",
          "height": 263
        },
        "id": "an34K0ecAVql",
        "outputId": "db36a89e-46a4-4648-f5d1-8c372eb8d27b"
      },
      "source": [
        "data2 = pd.DataFrame([[5.0, 2.0, 1],\r\n",
        "                      [6.2, 3.4, 1],\r\n",
        "                      [4.9, 3.6, 0],\r\n",
        "                      [6.2, 2.2, 1],\r\n",
        "                      [5.7, 3.0, 1],\r\n",
        "                      [4.8, 3.4, 0],\r\n",
        "                      [5.0, 3.4, 0]],\r\n",
        "                     columns=[\"x1\", \"x2\", \"class\"])\r\n",
        "data2"
      ],
      "execution_count": 16,
      "outputs": [
        {
          "output_type": "execute_result",
          "data": {
            "text/html": [
              "<div>\n",
              "<style scoped>\n",
              "    .dataframe tbody tr th:only-of-type {\n",
              "        vertical-align: middle;\n",
              "    }\n",
              "\n",
              "    .dataframe tbody tr th {\n",
              "        vertical-align: top;\n",
              "    }\n",
              "\n",
              "    .dataframe thead th {\n",
              "        text-align: right;\n",
              "    }\n",
              "</style>\n",
              "<table border=\"1\" class=\"dataframe\">\n",
              "  <thead>\n",
              "    <tr style=\"text-align: right;\">\n",
              "      <th></th>\n",
              "      <th>x</th>\n",
              "      <th>y</th>\n",
              "      <th>class</th>\n",
              "    </tr>\n",
              "  </thead>\n",
              "  <tbody>\n",
              "    <tr>\n",
              "      <th>0</th>\n",
              "      <td>5.0</td>\n",
              "      <td>2.0</td>\n",
              "      <td>1</td>\n",
              "    </tr>\n",
              "    <tr>\n",
              "      <th>1</th>\n",
              "      <td>6.2</td>\n",
              "      <td>3.4</td>\n",
              "      <td>1</td>\n",
              "    </tr>\n",
              "    <tr>\n",
              "      <th>2</th>\n",
              "      <td>4.9</td>\n",
              "      <td>3.6</td>\n",
              "      <td>0</td>\n",
              "    </tr>\n",
              "    <tr>\n",
              "      <th>3</th>\n",
              "      <td>6.2</td>\n",
              "      <td>2.2</td>\n",
              "      <td>1</td>\n",
              "    </tr>\n",
              "    <tr>\n",
              "      <th>4</th>\n",
              "      <td>5.7</td>\n",
              "      <td>3.0</td>\n",
              "      <td>1</td>\n",
              "    </tr>\n",
              "    <tr>\n",
              "      <th>5</th>\n",
              "      <td>4.8</td>\n",
              "      <td>3.4</td>\n",
              "      <td>0</td>\n",
              "    </tr>\n",
              "    <tr>\n",
              "      <th>6</th>\n",
              "      <td>5.0</td>\n",
              "      <td>3.4</td>\n",
              "      <td>0</td>\n",
              "    </tr>\n",
              "  </tbody>\n",
              "</table>\n",
              "</div>"
            ],
            "text/plain": [
              "     x    y  class\n",
              "0  5.0  2.0      1\n",
              "1  6.2  3.4      1\n",
              "2  4.9  3.6      0\n",
              "3  6.2  2.2      1\n",
              "4  5.7  3.0      1\n",
              "5  4.8  3.4      0\n",
              "6  5.0  3.4      0"
            ]
          },
          "metadata": {
            "tags": []
          },
          "execution_count": 16
        }
      ]
    },
    {
      "cell_type": "markdown",
      "metadata": {
        "id": "xSoBjGdmAVvj"
      },
      "source": [
        "### Task 1: Data Visualization (10 pts)\r\n",
        "Visualize the data as a scatter plot. Show class 0 records as green dots and class 1 records as blue dots. Display the following items:\r\n",
        "- Title of the plot: Distribution of the training data\r\n",
        "- Label for x axis: x1\r\n",
        "- Label for y axis: x2\r\n",
        "- Legend"
      ]
    },
    {
      "cell_type": "code",
      "metadata": {
        "id": "tJ3yYz2TEFtU"
      },
      "source": [
        "# Your Code Here\r\n",
        "\r\n"
      ],
      "execution_count": 18,
      "outputs": []
    },
    {
      "cell_type": "markdown",
      "metadata": {
        "id": "ci_icuTREOxj"
      },
      "source": [
        "### Task 2: Apply A Logistic Regression Model (10 pts)\r\n",
        "\r\n",
        "Suppose that you are given a logistic regression model with explicity paramter values:\r\n",
        "\r\n",
        "$p = \\sigma(\\textbf{x}\\cdot\\theta^T).$\r\n",
        "\r\n",
        "where\r\n",
        "- p: the probability that the point belongs to class 1.\r\n",
        "- $\\textbf{x} = (1, x_1, x_2)$.\r\n",
        "- $\\theta = (\\theta_0, \\theta_1, \\theta_2) = (-2.15, 0.92, -0.82)$.\r\n",
        "- $\\sigma(t) = \\frac{1}{1+e^{-t}}$\r\n",
        "\r\n",
        "Find the model's prediction on the following test set:"
      ]
    },
    {
      "cell_type": "code",
      "metadata": {
        "colab": {
          "base_uri": "https://localhost:8080/",
          "height": 171
        },
        "id": "7gOdAR4pGWOW",
        "outputId": "250d2704-3ec0-41db-cb70-4f51546fa1b7"
      },
      "source": [
        "data3 = pd.DataFrame([[5.1, 3.4, 0],\r\n",
        "                      [6.5, 2.8, 1],\r\n",
        "                      [5.8, 2.7, 1],\r\n",
        "                      [4.6, 3.1, 0]],\r\n",
        "                     columns=[\"x1\", \"x2\", \"class\"])\r\n",
        "data3"
      ],
      "execution_count": 22,
      "outputs": [
        {
          "output_type": "execute_result",
          "data": {
            "text/html": [
              "<div>\n",
              "<style scoped>\n",
              "    .dataframe tbody tr th:only-of-type {\n",
              "        vertical-align: middle;\n",
              "    }\n",
              "\n",
              "    .dataframe tbody tr th {\n",
              "        vertical-align: top;\n",
              "    }\n",
              "\n",
              "    .dataframe thead th {\n",
              "        text-align: right;\n",
              "    }\n",
              "</style>\n",
              "<table border=\"1\" class=\"dataframe\">\n",
              "  <thead>\n",
              "    <tr style=\"text-align: right;\">\n",
              "      <th></th>\n",
              "      <th>x1</th>\n",
              "      <th>x2</th>\n",
              "      <th>class</th>\n",
              "    </tr>\n",
              "  </thead>\n",
              "  <tbody>\n",
              "    <tr>\n",
              "      <th>0</th>\n",
              "      <td>5.1</td>\n",
              "      <td>3.4</td>\n",
              "      <td>0</td>\n",
              "    </tr>\n",
              "    <tr>\n",
              "      <th>1</th>\n",
              "      <td>6.5</td>\n",
              "      <td>2.8</td>\n",
              "      <td>1</td>\n",
              "    </tr>\n",
              "    <tr>\n",
              "      <th>2</th>\n",
              "      <td>5.8</td>\n",
              "      <td>2.7</td>\n",
              "      <td>1</td>\n",
              "    </tr>\n",
              "    <tr>\n",
              "      <th>3</th>\n",
              "      <td>4.6</td>\n",
              "      <td>3.1</td>\n",
              "      <td>0</td>\n",
              "    </tr>\n",
              "  </tbody>\n",
              "</table>\n",
              "</div>"
            ],
            "text/plain": [
              "    x1   x2  class\n",
              "0  5.1  3.4      0\n",
              "1  6.5  2.8      1\n",
              "2  5.8  2.7      1\n",
              "3  4.6  3.1      0"
            ]
          },
          "metadata": {
            "tags": []
          },
          "execution_count": 22
        }
      ]
    },
    {
      "cell_type": "markdown",
      "metadata": {
        "id": "HW5kVRygGo1j"
      },
      "source": [
        "### Task 3: Model Evaluation (40 pts)\r\n",
        "Calculate the following model metrics regarding the performance on the test set:\r\n",
        "- classification accuracy\r\n",
        "- precision score\r\n",
        "- recall score\r\n",
        "- F-1 score"
      ]
    },
    {
      "cell_type": "code",
      "metadata": {
        "id": "_cymkGXo-uRa"
      },
      "source": [
        "# Classification Accuracy\r\n",
        "\r\n"
      ],
      "execution_count": 23,
      "outputs": []
    },
    {
      "cell_type": "code",
      "metadata": {
        "id": "-RJyTLUgHYWO"
      },
      "source": [
        "# Precision Score\r\n",
        "\r\n"
      ],
      "execution_count": 24,
      "outputs": []
    },
    {
      "cell_type": "code",
      "metadata": {
        "id": "ADK-WMCrHZQA"
      },
      "source": [
        "# Recall Score\r\n",
        "\r\n"
      ],
      "execution_count": 25,
      "outputs": []
    },
    {
      "cell_type": "code",
      "metadata": {
        "id": "yp903_hxHaGk"
      },
      "source": [
        "# F-1 Score\r\n",
        "\r\n"
      ],
      "execution_count": 26,
      "outputs": []
    },
    {
      "cell_type": "code",
      "metadata": {
        "id": "rlUx3HoNHbIt"
      },
      "source": [
        ""
      ],
      "execution_count": null,
      "outputs": []
    }
  ]
}